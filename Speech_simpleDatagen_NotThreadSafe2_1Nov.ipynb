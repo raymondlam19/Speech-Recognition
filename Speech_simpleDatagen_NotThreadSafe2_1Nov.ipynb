{
 "cells": [
  {
   "cell_type": "markdown",
   "metadata": {},
   "source": [
    "Note: Your generator is NOT thread-safe.Keras requires a thread-safe generator when`use_multiprocessing=False, workers > 1`. But it's fine because GPU load is already high at 80%.\n",
    "    \n",
    "Second kernel:\n",
    "1. use create_3Dspecgram() instead of get_specgram(),\n",
    "2. use a deeper model architecture\n",
    "2. improved the data generator for train & val (able to shuffle on train, Sequential on val; handle the last batch)\n",
    "\n",
    "Improvement:\n",
    "1. Spectrogram (nperseg, noverlap, reshape) <- Done!\n",
    "2. Insert background noise randomly (data augmentation)\n",
    "3. Develop a better data generator that is able to shuffle, handle the last batch, thread-safe <- Done!\n",
    "4. Try different model architecture <- Done!"
   ]
  },
  {
   "cell_type": "code",
   "execution_count": 1,
   "metadata": {},
   "outputs": [],
   "source": [
    "import numpy as np\n",
    "import pandas as pd\n",
    "from matplotlib import pyplot as plt\n",
    "\n",
    "from pathlib import Path\n",
    "import time\n",
    "from scipy.io import wavfile\n",
    "from scipy import signal"
   ]
  },
  {
   "cell_type": "markdown",
   "metadata": {},
   "source": [
    "# df_train"
   ]
  },
  {
   "cell_type": "code",
   "execution_count": 2,
   "metadata": {},
   "outputs": [],
   "source": [
    "def get_data(path):\n",
    "    ''' Returns dataframe with columns: 'path', 'word'.'''\n",
    "    datadir = Path(path)\n",
    "    files = [(str(f), f.parts[-2]) for f in datadir.glob('**/*.wav')]\n",
    "    df = pd.DataFrame(files, columns=['path', 'word'])\n",
    "    \n",
    "    return df"
   ]
  },
  {
   "cell_type": "code",
   "execution_count": 3,
   "metadata": {},
   "outputs": [
    {
     "name": "stdout",
     "output_type": "stream",
     "text": [
      "df_train.shape: (64727, 2)\n"
     ]
    },
    {
     "data": {
      "text/html": [
       "<div>\n",
       "<style scoped>\n",
       "    .dataframe tbody tr th:only-of-type {\n",
       "        vertical-align: middle;\n",
       "    }\n",
       "\n",
       "    .dataframe tbody tr th {\n",
       "        vertical-align: top;\n",
       "    }\n",
       "\n",
       "    .dataframe thead th {\n",
       "        text-align: right;\n",
       "    }\n",
       "</style>\n",
       "<table border=\"1\" class=\"dataframe\">\n",
       "  <thead>\n",
       "    <tr style=\"text-align: right;\">\n",
       "      <th></th>\n",
       "      <th>path</th>\n",
       "      <th>word</th>\n",
       "    </tr>\n",
       "  </thead>\n",
       "  <tbody>\n",
       "    <tr>\n",
       "      <th>0</th>\n",
       "      <td>input\\train\\audio\\bed\\00176480_nohash_0.wav</td>\n",
       "      <td>bed</td>\n",
       "    </tr>\n",
       "    <tr>\n",
       "      <th>1</th>\n",
       "      <td>input\\train\\audio\\bed\\004ae714_nohash_0.wav</td>\n",
       "      <td>bed</td>\n",
       "    </tr>\n",
       "    <tr>\n",
       "      <th>2</th>\n",
       "      <td>input\\train\\audio\\bed\\004ae714_nohash_1.wav</td>\n",
       "      <td>bed</td>\n",
       "    </tr>\n",
       "    <tr>\n",
       "      <th>3</th>\n",
       "      <td>input\\train\\audio\\bed\\00f0204f_nohash_0.wav</td>\n",
       "      <td>bed</td>\n",
       "    </tr>\n",
       "    <tr>\n",
       "      <th>4</th>\n",
       "      <td>input\\train\\audio\\bed\\00f0204f_nohash_1.wav</td>\n",
       "      <td>bed</td>\n",
       "    </tr>\n",
       "  </tbody>\n",
       "</table>\n",
       "</div>"
      ],
      "text/plain": [
       "                                          path word\n",
       "0  input\\train\\audio\\bed\\00176480_nohash_0.wav  bed\n",
       "1  input\\train\\audio\\bed\\004ae714_nohash_0.wav  bed\n",
       "2  input\\train\\audio\\bed\\004ae714_nohash_1.wav  bed\n",
       "3  input\\train\\audio\\bed\\00f0204f_nohash_0.wav  bed\n",
       "4  input\\train\\audio\\bed\\00f0204f_nohash_1.wav  bed"
      ]
     },
     "execution_count": 3,
     "metadata": {},
     "output_type": "execute_result"
    }
   ],
   "source": [
    "df_train = get_data('./input/train/')\n",
    "\n",
    "print('df_train.shape:', df_train.shape)\n",
    "df_train.head()"
   ]
  },
  {
   "cell_type": "code",
   "execution_count": 4,
   "metadata": {},
   "outputs": [
    {
     "name": "stdout",
     "output_type": "stream",
     "text": [
      "31\n"
     ]
    },
    {
     "data": {
      "text/plain": [
       "array(['bed', 'bird', 'cat', 'dog', 'down', 'eight', 'five', 'four', 'go',\n",
       "       'happy', 'house', 'left', 'marvin', 'nine', 'no', 'off', 'on',\n",
       "       'one', 'right', 'seven', 'sheila', 'six', 'stop', 'three', 'tree',\n",
       "       'two', 'up', 'wow', 'yes', 'zero', '_background_noise_'],\n",
       "      dtype=object)"
      ]
     },
     "execution_count": 4,
     "metadata": {},
     "output_type": "execute_result"
    }
   ],
   "source": [
    "print(len(df_train['word'].unique()))\n",
    "df_train['word'].unique()"
   ]
  },
  {
   "cell_type": "code",
   "execution_count": 5,
   "metadata": {},
   "outputs": [],
   "source": [
    "def prepare_data(df):\n",
    "    '''Transform data into something more useful.'''\n",
    "    train_words = ['yes', 'no', 'up', 'down', 'left', 'right', 'on', 'off', 'stop', 'go']\n",
    "    words = df['word'].unique().tolist()\n",
    "    silence = ['_background_noise_']\n",
    "    unknown = [w for w in words if w not in silence + train_words]\n",
    "\n",
    "    # there are only 6 silence files. Mark them as unknown too.\n",
    "    df.loc[df['word'].isin(silence), 'word'] = 'unknown'\n",
    "    df.loc[df['word'].isin(unknown), 'word'] = 'unknown'\n",
    "    \n",
    "    return df"
   ]
  },
  {
   "cell_type": "code",
   "execution_count": 6,
   "metadata": {},
   "outputs": [
    {
     "name": "stdout",
     "output_type": "stream",
     "text": [
      "df_train.shape: (64727, 2)\n"
     ]
    },
    {
     "data": {
      "text/html": [
       "<div>\n",
       "<style scoped>\n",
       "    .dataframe tbody tr th:only-of-type {\n",
       "        vertical-align: middle;\n",
       "    }\n",
       "\n",
       "    .dataframe tbody tr th {\n",
       "        vertical-align: top;\n",
       "    }\n",
       "\n",
       "    .dataframe thead th {\n",
       "        text-align: right;\n",
       "    }\n",
       "</style>\n",
       "<table border=\"1\" class=\"dataframe\">\n",
       "  <thead>\n",
       "    <tr style=\"text-align: right;\">\n",
       "      <th></th>\n",
       "      <th>path</th>\n",
       "      <th>word</th>\n",
       "    </tr>\n",
       "  </thead>\n",
       "  <tbody>\n",
       "    <tr>\n",
       "      <th>0</th>\n",
       "      <td>input\\train\\audio\\bed\\00176480_nohash_0.wav</td>\n",
       "      <td>unknown</td>\n",
       "    </tr>\n",
       "    <tr>\n",
       "      <th>1</th>\n",
       "      <td>input\\train\\audio\\bed\\004ae714_nohash_0.wav</td>\n",
       "      <td>unknown</td>\n",
       "    </tr>\n",
       "    <tr>\n",
       "      <th>2</th>\n",
       "      <td>input\\train\\audio\\bed\\004ae714_nohash_1.wav</td>\n",
       "      <td>unknown</td>\n",
       "    </tr>\n",
       "    <tr>\n",
       "      <th>3</th>\n",
       "      <td>input\\train\\audio\\bed\\00f0204f_nohash_0.wav</td>\n",
       "      <td>unknown</td>\n",
       "    </tr>\n",
       "    <tr>\n",
       "      <th>4</th>\n",
       "      <td>input\\train\\audio\\bed\\00f0204f_nohash_1.wav</td>\n",
       "      <td>unknown</td>\n",
       "    </tr>\n",
       "  </tbody>\n",
       "</table>\n",
       "</div>"
      ],
      "text/plain": [
       "                                          path     word\n",
       "0  input\\train\\audio\\bed\\00176480_nohash_0.wav  unknown\n",
       "1  input\\train\\audio\\bed\\004ae714_nohash_0.wav  unknown\n",
       "2  input\\train\\audio\\bed\\004ae714_nohash_1.wav  unknown\n",
       "3  input\\train\\audio\\bed\\00f0204f_nohash_0.wav  unknown\n",
       "4  input\\train\\audio\\bed\\00f0204f_nohash_1.wav  unknown"
      ]
     },
     "execution_count": 6,
     "metadata": {},
     "output_type": "execute_result"
    }
   ],
   "source": [
    "df_train = prepare_data(df_train)\n",
    "\n",
    "print('df_train.shape:', df_train.shape)\n",
    "df_train.head()"
   ]
  },
  {
   "cell_type": "code",
   "execution_count": 7,
   "metadata": {},
   "outputs": [
    {
     "name": "stdout",
     "output_type": "stream",
     "text": [
      "11\n"
     ]
    },
    {
     "data": {
      "text/plain": [
       "array(['unknown', 'down', 'go', 'left', 'no', 'off', 'on', 'right',\n",
       "       'stop', 'up', 'yes'], dtype=object)"
      ]
     },
     "execution_count": 7,
     "metadata": {},
     "output_type": "execute_result"
    }
   ],
   "source": [
    "print(len(df_train['word'].unique()))\n",
    "df_train['word'].unique()"
   ]
  },
  {
   "cell_type": "markdown",
   "metadata": {},
   "source": [
    "# Create training and val set"
   ]
  },
  {
   "cell_type": "code",
   "execution_count": 8,
   "metadata": {},
   "outputs": [],
   "source": [
    "from sklearn.preprocessing import LabelBinarizer\n",
    "\n",
    "labelbinarizer = LabelBinarizer()\n",
    "x = df_train['path']\n",
    "y = labelbinarizer.fit_transform(df_train['word'])"
   ]
  },
  {
   "cell_type": "code",
   "execution_count": 9,
   "metadata": {},
   "outputs": [
    {
     "name": "stdout",
     "output_type": "stream",
     "text": [
      "y.shape: (64727, 11)\n"
     ]
    },
    {
     "data": {
      "text/plain": [
       "array([[0, 0, 0, ..., 1, 0, 0],\n",
       "       [0, 0, 0, ..., 1, 0, 0],\n",
       "       [0, 0, 0, ..., 1, 0, 0],\n",
       "       ...,\n",
       "       [0, 0, 0, ..., 1, 0, 0],\n",
       "       [0, 0, 0, ..., 1, 0, 0],\n",
       "       [0, 0, 0, ..., 1, 0, 0]])"
      ]
     },
     "execution_count": 9,
     "metadata": {},
     "output_type": "execute_result"
    }
   ],
   "source": [
    "print('y.shape:', y.shape)\n",
    "y"
   ]
  },
  {
   "cell_type": "code",
   "execution_count": 10,
   "metadata": {},
   "outputs": [],
   "source": [
    "VALIDATION_SPLIT = 0.1"
   ]
  },
  {
   "cell_type": "code",
   "execution_count": 11,
   "metadata": {},
   "outputs": [
    {
     "name": "stdout",
     "output_type": "stream",
     "text": [
      "x_train.shape (58254,)\n",
      "x_val.shape (6473,)\n",
      "y_train.shape (58254, 11)\n",
      "y_val.shape (6473, 11)\n"
     ]
    }
   ],
   "source": [
    "from sklearn.model_selection import train_test_split\n",
    "\n",
    "x_train, x_val, y_train, y_val = train_test_split(x, y,\n",
    "                                                  test_size = VALIDATION_SPLIT,\n",
    "                                                  stratify = y)  #distribute evenly according to y\n",
    "\n",
    "print('x_train.shape', x_train.shape)\n",
    "print('x_val.shape', x_val.shape)\n",
    "print('y_train.shape', y_train.shape)\n",
    "print('y_val.shape', y_val.shape)"
   ]
  },
  {
   "cell_type": "markdown",
   "metadata": {},
   "source": [
    "# batch_generator"
   ]
  },
  {
   "cell_type": "code",
   "execution_count": 12,
   "metadata": {},
   "outputs": [],
   "source": [
    "def log_specgram(audio, sample_rate, window_size=20,\n",
    "                 step_size=10, eps=1e-10):\n",
    "    nperseg = int(round(window_size * sample_rate / 1e3))\n",
    "    noverlap = int(round(step_size * sample_rate / 1e3))\n",
    "    freqs, times, spec = signal.spectrogram(audio,\n",
    "                                    fs=sample_rate,\n",
    "                                    window='hann',\n",
    "                                    nperseg=nperseg,\n",
    "                                    noverlap=noverlap,\n",
    "                                    detrend=False)\n",
    "    return freqs, times, np.log(spec.T.astype(np.float32) + eps)"
   ]
  },
  {
   "cell_type": "code",
   "execution_count": 13,
   "metadata": {},
   "outputs": [
    {
     "data": {
      "text/plain": [
       "(99, 161)"
      ]
     },
     "execution_count": 13,
     "metadata": {},
     "output_type": "execute_result"
    }
   ],
   "source": [
    "# log_specgram() testing\n",
    "sample_rate, wav = wavfile.read(df_train['path'][0])\n",
    "specgram = log_specgram(wav, sample_rate)[2]\n",
    "specgram.shape"
   ]
  },
  {
   "cell_type": "code",
   "execution_count": 14,
   "metadata": {},
   "outputs": [],
   "source": [
    "def padding(wavs):\n",
    "    '''input: [wavs]\n",
    "       return: [wavs]'''\n",
    "    \n",
    "    data = [] \n",
    "    for wav in wavs:\n",
    "        if len(wav) < sample_rate:\n",
    "            d = np.pad(wav, (sample_rate - len(wav), 0), mode='constant')\n",
    "        else:\n",
    "            d = wav[0:sample_rate]\n",
    "        data.append(d)\n",
    "    \n",
    "    return data"
   ]
  },
  {
   "cell_type": "code",
   "execution_count": 15,
   "metadata": {},
   "outputs": [],
   "source": [
    "def create_3Dspecgram(wavs, sample_rate):\n",
    "    ''' return 3-dimensional spectrograms\n",
    "        channel_axis = 3\n",
    "        freq_axis = 2\n",
    "        time_axis = 1\n",
    "    '''\n",
    "    specgrams_3D = []\n",
    "    for wav in wavs:\n",
    "        specgram = signal.stft(wav, sample_rate,\n",
    "                               nperseg = 400, noverlap = 240, nfft = 512, padded = False, boundary = None\n",
    "                              )                      # specgram[2].shape: (129,126)(257,98)\n",
    "        \n",
    "        phase = np.angle(specgram[2]) / np.pi        #(257,98)\n",
    "        amp = np.log1p(np.abs(specgram[2]))          #(257,98)\n",
    "        \n",
    "        specgram = np.stack([phase, amp], axis = 2)  #(257,98, 2)\n",
    "\n",
    "        specgrams_3D.append(specgram)\n",
    "    \n",
    "    return specgrams_3D                              #(16, 257, 98, 2)"
   ]
  },
  {
   "cell_type": "code",
   "execution_count": 16,
   "metadata": {},
   "outputs": [
    {
     "name": "stdout",
     "output_type": "stream",
     "text": [
      "(16, 257, 98, 2)\n"
     ]
    }
   ],
   "source": [
    "# create_3Dspecgram() testing\n",
    "\n",
    "# get paths\n",
    "paths = df_train['path'][:16]\n",
    "\n",
    "# read wavs\n",
    "wavs  = [wavfile.read(path)[1] for path in paths]\n",
    "\n",
    "# padding\n",
    "wavs = padding(wavs)\n",
    "\n",
    "# create specgrams_3D\n",
    "specgrams_3D = create_3Dspecgram(wavs, 16000)\n",
    "\n",
    "print(np.array(specgrams_3D).shape)"
   ]
  },
  {
   "cell_type": "code",
   "execution_count": 17,
   "metadata": {},
   "outputs": [],
   "source": [
    "def train_generator(x, y, batch_size=32, sample_rate=16000):\n",
    "    '''\n",
    "    input: (x = paths, y = labels)\n",
    "    return: (specgrams_3D (batch_size, 257, 98, 2), labels (batch_size, nr_classes))\n",
    "    '''\n",
    "    \n",
    "    while True:\n",
    "        \n",
    "        # shuffle index\n",
    "        shuffled_ids = np.random.choice(range(x.shape[0]),\n",
    "                                size = x.shape[0],\n",
    "                                replace=False)\n",
    "        \n",
    "        for start in range(0, len(shuffled_ids), batch_size):\n",
    "            \n",
    "            # to handle last batch\n",
    "            end = min(start + batch_size, len(shuffled_ids))\n",
    "            i_train_batch = shuffled_ids[start:end]\n",
    "        \n",
    "            paths = x[i_train_batch]\n",
    "            labels = y[i_train_batch]\n",
    "\n",
    "            # read the wav files\n",
    "            wavs  = [wavfile.read(path)[1] for path in paths]\n",
    "\n",
    "            # zero pad the shorter samples and cut off the long ones.\n",
    "            wavs = padding(wavs)\n",
    "\n",
    "            # create spectogram\n",
    "            specgrams_3D = create_3Dspecgram(wavs, sample_rate)      #(16, 257, 98, 2)\n",
    "\n",
    "            yield np.concatenate([specgrams_3D]), labels"
   ]
  },
  {
   "cell_type": "code",
   "execution_count": 18,
   "metadata": {},
   "outputs": [],
   "source": [
    "def val_generator(x, y, batch_size=32, sample_rate=16000):\n",
    "    '''\n",
    "    input: (x = paths, y = labels)\n",
    "    return: (specgrams_3D (batch_size, 257, 98, 2), labels (batch_size, nr_classes))\n",
    "    '''\n",
    "    \n",
    "    while True:\n",
    "\n",
    "        # Sequential index\n",
    "        ids = list(range(x.shape[0]))\n",
    "        for start in range(0, len(ids), batch_size):\n",
    "            \n",
    "            # to handle last batch\n",
    "            end = min(start + batch_size, len(ids))\n",
    "            i_val_batch = ids[start:end]\n",
    "\n",
    "            paths = x[i_val_batch]\n",
    "            labels = y[i_val_batch]\n",
    "\n",
    "            # read the wav files\n",
    "            wavs  = [wavfile.read(path)[1] for path in paths]\n",
    "\n",
    "            # zero pad the shorter samples and cut off the long ones.\n",
    "            wavs = padding(wavs)\n",
    "\n",
    "            # create spectogram\n",
    "            specgrams_3D = create_3Dspecgram(wavs, sample_rate)      #(16, 129, 126, 2)\n",
    "\n",
    "            yield np.concatenate([specgrams_3D]), labels"
   ]
  },
  {
   "cell_type": "code",
   "execution_count": 19,
   "metadata": {},
   "outputs": [],
   "source": [
    "BATCH_SIZE = 16"
   ]
  },
  {
   "cell_type": "code",
   "execution_count": 20,
   "metadata": {},
   "outputs": [],
   "source": [
    "train_datagen = train_generator(x_train.values, y_train, batch_size=BATCH_SIZE)\n",
    "val_datagen = val_generator(x_val.values, y_val, batch_size=BATCH_SIZE)"
   ]
  },
  {
   "cell_type": "code",
   "execution_count": 21,
   "metadata": {},
   "outputs": [
    {
     "name": "stdout",
     "output_type": "stream",
     "text": [
      "(16, 257, 98, 2)\n",
      "(16, 11)\n",
      "(16, 257, 98, 2)\n",
      "(16, 11)\n",
      "(16, 257, 98, 2)\n",
      "(16, 11)\n"
     ]
    }
   ],
   "source": [
    "# train_datagen testing\n",
    "i=1\n",
    "for x_batch, y_batch in train_datagen:\n",
    "    if i > 3:\n",
    "        break\n",
    "    print(x_batch.shape)\n",
    "    print(y_batch.shape)\n",
    "    i+=1"
   ]
  },
  {
   "cell_type": "code",
   "execution_count": 22,
   "metadata": {},
   "outputs": [
    {
     "name": "stdout",
     "output_type": "stream",
     "text": [
      "(16, 257, 98, 2)\n",
      "(16, 11)\n",
      "(16, 257, 98, 2)\n",
      "(16, 11)\n",
      "(16, 257, 98, 2)\n",
      "(16, 11)\n"
     ]
    }
   ],
   "source": [
    "# val_datagen testing\n",
    "i=1\n",
    "for x_batch, y_batch in val_datagen:\n",
    "    if i > 3:\n",
    "        break\n",
    "    print(x_batch.shape)\n",
    "    print(y_batch.shape)\n",
    "    i+=1"
   ]
  },
  {
   "cell_type": "markdown",
   "metadata": {},
   "source": [
    "# Model"
   ]
  },
  {
   "cell_type": "code",
   "execution_count": 23,
   "metadata": {},
   "outputs": [
    {
     "name": "stderr",
     "output_type": "stream",
     "text": [
      "Using TensorFlow backend.\n"
     ]
    }
   ],
   "source": [
    "import keras\n",
    "import tensorflow as tf\n",
    "from keras import backend as K\n",
    "from keras.layers import Input, Dense\n",
    "from keras.models import Model\n",
    "from keras.layers import Dense, Dropout, Reshape\n",
    "from keras.layers import Conv2D, MaxPooling2D, ZeroPadding2D\n",
    "from keras.layers import BatchNormalization\n",
    "from keras.layers import ELU\n",
    "from keras.layers import CuDNNGRU\n",
    "from keras.optimizers import SGD\n",
    "\n",
    "from keras.optimizers import Adam"
   ]
  },
  {
   "cell_type": "code",
   "execution_count": 24,
   "metadata": {},
   "outputs": [],
   "source": [
    "# Metric: F1\n",
    "\n",
    "def f1(y_true, y_pred):\n",
    "    \n",
    "    tp = K.sum(K.cast(y_true*y_pred, 'float'), axis=0)\n",
    "    fp = K.sum(K.cast((1-y_true)*y_pred, 'float'), axis=0)\n",
    "    fn = K.sum(K.cast(y_true*(1-y_pred), 'float'), axis=0)\n",
    "\n",
    "    p = tp / (tp + fp + K.epsilon())\n",
    "    r = tp / (tp + fn + K.epsilon())\n",
    "\n",
    "    f1 = 2*p*r / (p+r+K.epsilon())\n",
    "    f1 = tf.where(tf.is_nan(f1), tf.zeros_like(f1), f1)\n",
    "    return K.mean(f1)"
   ]
  },
  {
   "cell_type": "code",
   "execution_count": 25,
   "metadata": {},
   "outputs": [],
   "source": [
    "# GRADED FUNCTION: model\n",
    "\n",
    "def create_model(input_shape):\n",
    "    \n",
    "    channel_axis = 3\n",
    "    freq_axis = 2\n",
    "    time_axis = 1\n",
    "\n",
    "    melgram_input = Input(shape=input_shape)\n",
    "    #x = ZeroPadding2D(padding=(0, 37))(melgram_input)\n",
    "    x = BatchNormalization(axis=freq_axis, name='bn_0_freq')(melgram_input)\n",
    "\n",
    "    # Conv block 1\n",
    "    x_1 = Conv2D(64, (3, 3), name=\"conv1\", padding=\"same\")(x)\n",
    "    x_1 = BatchNormalization(axis=channel_axis, name=\"bn1\")(x_1)\n",
    "    x_1 = ELU()(x_1)\n",
    "    x_1 = MaxPooling2D(pool_size=(2, 2), strides=(2, 2), name='pool1')(x_1)\n",
    "    x_1 = Dropout(0.1, name='dropout1')(x_1)\n",
    "\n",
    "    # Conv block 2\n",
    "    x_2 = Conv2D(128, (3, 3), name=\"conv2\", padding=\"same\")(x_1)\n",
    "    x_2 = BatchNormalization(axis=channel_axis, name=\"bn2\")(x_2)\n",
    "    x_2 = ELU()(x_2)\n",
    "    x_2 = MaxPooling2D(pool_size=(3, 3), strides=(3, 3), name='pool2')(x_2)\n",
    "    x_2 = Dropout(0.1, name='dropout2')(x_2)\n",
    "\n",
    "    # Conv block 3\n",
    "    x_3 = Conv2D(128, (3, 3), name=\"conv3\", padding=\"same\")(x_2)\n",
    "    x_3 = BatchNormalization(axis=channel_axis, name=\"bn3\")(x_3)\n",
    "    x_3 = ELU()(x_3)\n",
    "    x_3 = MaxPooling2D(pool_size=(4, 4), strides=(4, 4), name='pool3')(x_3)\n",
    "    x_3 = Dropout(0.1, name='dropout3')(x_3)\n",
    "\n",
    "    # Conv block 4\n",
    "    x_4 = Conv2D(128, (3, 3), name=\"conv4\", padding=\"same\")(x_3)\n",
    "    x_4 = BatchNormalization(axis=channel_axis, name=\"bn4\")(x_4)\n",
    "    x_4 = ELU()(x_4)\n",
    "    x_4 = MaxPooling2D(pool_size=(4, 4), strides=(4, 4), name='pool4')(x_4)\n",
    "    x_4 = Dropout(0.1, name='dropout4')(x_4)\n",
    "\n",
    "    # reshaping\n",
    "    x = Reshape((2, 128))(x_4)\n",
    "\n",
    "    # GRU block 1, 2, output\n",
    "    x_gru = CuDNNGRU(32, return_sequences=True, name='gru1')(x)\n",
    "    x_gru = CuDNNGRU(32, return_sequences=False, name='gru2')(x_gru)\n",
    "    x_gru = Dropout(0.3)(x_gru)\n",
    "    output = Dense(11, activation='sigmoid', name='output')(x_gru)\n",
    "\n",
    "    model = Model(inputs = melgram_input, outputs = output)\n",
    "    \n",
    "    model.summary()\n",
    "    \n",
    "    return model  "
   ]
  },
  {
   "cell_type": "code",
   "execution_count": 26,
   "metadata": {},
   "outputs": [],
   "source": [
    "INPUT_SHAPE = (257, 98, 2)"
   ]
  },
  {
   "cell_type": "code",
   "execution_count": 27,
   "metadata": {},
   "outputs": [
    {
     "name": "stdout",
     "output_type": "stream",
     "text": [
      "WARNING:tensorflow:From D:\\Anaconda3\\envs\\tensorflow\\lib\\site-packages\\keras\\backend\\tensorflow_backend.py:95: The name tf.reset_default_graph is deprecated. Please use tf.compat.v1.reset_default_graph instead.\n",
      "\n",
      "WARNING:tensorflow:From D:\\Anaconda3\\envs\\tensorflow\\lib\\site-packages\\keras\\backend\\tensorflow_backend.py:98: The name tf.placeholder_with_default is deprecated. Please use tf.compat.v1.placeholder_with_default instead.\n",
      "\n",
      "WARNING:tensorflow:From D:\\Anaconda3\\envs\\tensorflow\\lib\\site-packages\\keras\\backend\\tensorflow_backend.py:102: The name tf.get_default_graph is deprecated. Please use tf.compat.v1.get_default_graph instead.\n",
      "\n",
      "WARNING:tensorflow:From D:\\Anaconda3\\envs\\tensorflow\\lib\\site-packages\\keras\\backend\\tensorflow_backend.py:517: The name tf.placeholder is deprecated. Please use tf.compat.v1.placeholder instead.\n",
      "\n",
      "WARNING:tensorflow:From D:\\Anaconda3\\envs\\tensorflow\\lib\\site-packages\\keras\\backend\\tensorflow_backend.py:4138: The name tf.random_uniform is deprecated. Please use tf.random.uniform instead.\n",
      "\n",
      "WARNING:tensorflow:From D:\\Anaconda3\\envs\\tensorflow\\lib\\site-packages\\keras\\backend\\tensorflow_backend.py:1834: The name tf.nn.fused_batch_norm is deprecated. Please use tf.compat.v1.nn.fused_batch_norm instead.\n",
      "\n",
      "WARNING:tensorflow:From D:\\Anaconda3\\envs\\tensorflow\\lib\\site-packages\\keras\\backend\\tensorflow_backend.py:3976: The name tf.nn.max_pool is deprecated. Please use tf.nn.max_pool2d instead.\n",
      "\n",
      "WARNING:tensorflow:From D:\\Anaconda3\\envs\\tensorflow\\lib\\site-packages\\keras\\backend\\tensorflow_backend.py:3445: calling dropout (from tensorflow.python.ops.nn_ops) with keep_prob is deprecated and will be removed in a future version.\n",
      "Instructions for updating:\n",
      "Please use `rate` instead of `keep_prob`. Rate should be set to `rate = 1 - keep_prob`.\n",
      "_________________________________________________________________\n",
      "Layer (type)                 Output Shape              Param #   \n",
      "=================================================================\n",
      "input_1 (InputLayer)         (None, 257, 98, 2)        0         \n",
      "_________________________________________________________________\n",
      "bn_0_freq (BatchNormalizatio (None, 257, 98, 2)        392       \n",
      "_________________________________________________________________\n",
      "conv1 (Conv2D)               (None, 257, 98, 64)       1216      \n",
      "_________________________________________________________________\n",
      "bn1 (BatchNormalization)     (None, 257, 98, 64)       256       \n",
      "_________________________________________________________________\n",
      "elu_1 (ELU)                  (None, 257, 98, 64)       0         \n",
      "_________________________________________________________________\n",
      "pool1 (MaxPooling2D)         (None, 128, 49, 64)       0         \n",
      "_________________________________________________________________\n",
      "dropout1 (Dropout)           (None, 128, 49, 64)       0         \n",
      "_________________________________________________________________\n",
      "conv2 (Conv2D)               (None, 128, 49, 128)      73856     \n",
      "_________________________________________________________________\n",
      "bn2 (BatchNormalization)     (None, 128, 49, 128)      512       \n",
      "_________________________________________________________________\n",
      "elu_2 (ELU)                  (None, 128, 49, 128)      0         \n",
      "_________________________________________________________________\n",
      "pool2 (MaxPooling2D)         (None, 42, 16, 128)       0         \n",
      "_________________________________________________________________\n",
      "dropout2 (Dropout)           (None, 42, 16, 128)       0         \n",
      "_________________________________________________________________\n",
      "conv3 (Conv2D)               (None, 42, 16, 128)       147584    \n",
      "_________________________________________________________________\n",
      "bn3 (BatchNormalization)     (None, 42, 16, 128)       512       \n",
      "_________________________________________________________________\n",
      "elu_3 (ELU)                  (None, 42, 16, 128)       0         \n",
      "_________________________________________________________________\n",
      "pool3 (MaxPooling2D)         (None, 10, 4, 128)        0         \n",
      "_________________________________________________________________\n",
      "dropout3 (Dropout)           (None, 10, 4, 128)        0         \n",
      "_________________________________________________________________\n",
      "conv4 (Conv2D)               (None, 10, 4, 128)        147584    \n",
      "_________________________________________________________________\n",
      "bn4 (BatchNormalization)     (None, 10, 4, 128)        512       \n",
      "_________________________________________________________________\n",
      "elu_4 (ELU)                  (None, 10, 4, 128)        0         \n",
      "_________________________________________________________________\n",
      "pool4 (MaxPooling2D)         (None, 2, 1, 128)         0         \n",
      "_________________________________________________________________\n",
      "dropout4 (Dropout)           (None, 2, 1, 128)         0         \n",
      "_________________________________________________________________\n",
      "reshape_1 (Reshape)          (None, 2, 128)            0         \n",
      "_________________________________________________________________\n",
      "gru1 (CuDNNGRU)              (None, 2, 32)             15552     \n",
      "_________________________________________________________________\n",
      "gru2 (CuDNNGRU)              (None, 32)                6336      \n",
      "_________________________________________________________________\n",
      "dropout_1 (Dropout)          (None, 32)                0         \n",
      "_________________________________________________________________\n",
      "output (Dense)               (None, 11)                363       \n",
      "=================================================================\n",
      "Total params: 394,675\n",
      "Trainable params: 393,583\n",
      "Non-trainable params: 1,092\n",
      "_________________________________________________________________\n",
      "WARNING:tensorflow:From D:\\Anaconda3\\envs\\tensorflow\\lib\\site-packages\\keras\\optimizers.py:790: The name tf.train.Optimizer is deprecated. Please use tf.compat.v1.train.Optimizer instead.\n",
      "\n",
      "WARNING:tensorflow:From <ipython-input-24-09bfd26e3b93>:13: add_dispatch_support.<locals>.wrapper (from tensorflow.python.ops.array_ops) is deprecated and will be removed in a future version.\n",
      "Instructions for updating:\n",
      "Use tf.where in 2.0, which has the same broadcast rule as np.where\n",
      "Wall time: 9.91 s\n"
     ]
    }
   ],
   "source": [
    "%%time\n",
    "\n",
    "keras.backend.clear_session()\n",
    "\n",
    "# Create model\n",
    "model = create_model(input_shape = INPUT_SHAPE)\n",
    "\n",
    "# Load weights\n",
    "model.load_weights('./model/speech_valloss_0.1027.h5')\n",
    "\n",
    "# Compile model\n",
    "model.compile(\n",
    "    loss = 'categorical_crossentropy',\n",
    "    optimizer = Adam(lr=1e-03),\n",
    "    metrics = ['acc', f1])"
   ]
  },
  {
   "cell_type": "code",
   "execution_count": 28,
   "metadata": {},
   "outputs": [],
   "source": [
    "# Callbacks\n",
    "\n",
    "from keras.callbacks import EarlyStopping, ReduceLROnPlateau, ModelCheckpoint, TensorBoard\n",
    "\n",
    "callbacks = [\n",
    "             EarlyStopping(monitor='val_loss', patience=5, min_delta=1e-4),\n",
    "             ReduceLROnPlateau(monitor='val_loss', factor=0.6, patience=2, cooldown=1, min_lr=1e-6),\n",
    "             ModelCheckpoint(filepath='./model/speech_valloss.h5', monitor='val_loss',\n",
    "                             save_best_only=True, save_weights_only=False),\n",
    "            ]"
   ]
  },
  {
   "cell_type": "code",
   "execution_count": 29,
   "metadata": {},
   "outputs": [
    {
     "name": "stdout",
     "output_type": "stream",
     "text": [
      "train_steps: 3641\n",
      "val_steps: 405\n"
     ]
    }
   ],
   "source": [
    "EPOCHS = 20\n",
    "train_steps = int(np.ceil(x_train.shape[0]/BATCH_SIZE))\n",
    "val_steps = int(np.ceil(x_val.shape[0]/BATCH_SIZE))\n",
    "\n",
    "print('train_steps:', train_steps)\n",
    "print('val_steps:', val_steps)"
   ]
  },
  {
   "cell_type": "code",
   "execution_count": 30,
   "metadata": {},
   "outputs": [],
   "source": [
    "# Reset data generator\n",
    "\n",
    "train_datagen = train_generator(x_train.values, y_train, batch_size=BATCH_SIZE)\n",
    "val_datagen = val_generator(x_val.values, y_val, batch_size=BATCH_SIZE)"
   ]
  },
  {
   "cell_type": "code",
   "execution_count": 30,
   "metadata": {},
   "outputs": [
    {
     "name": "stdout",
     "output_type": "stream",
     "text": [
      "Epoch 1/20\n",
      "2143/3641 [================>.............] - ETA: 1:41 - loss: 1.2300 - acc: 0.6516 - f1: 0.16"
     ]
    },
    {
     "name": "stderr",
     "output_type": "stream",
     "text": [
      "D:\\Anaconda3\\envs\\tensorflow\\lib\\site-packages\\scipy\\io\\wavfile.py:273: WavFileWarning: Chunk (non-data) not understood, skipping it.\n",
      "  WavFileWarning)\n"
     ]
    },
    {
     "name": "stdout",
     "output_type": "stream",
     "text": [
      "3641/3641 [==============================] - 260s 71ms/step - loss: 1.0582 - acc: 0.6799 - f1: 0.2028 - val_loss: 0.6041 - val_acc: 0.7870 - val_f1: 0.2547\n",
      "Epoch 2/20\n",
      "3641/3641 [==============================] - 257s 70ms/step - loss: 0.5583 - acc: 0.8214 - f1: 0.2221 - val_loss: 0.3673 - val_acc: 0.8871 - val_f1: 0.2131\n",
      "Epoch 3/20\n",
      "3641/3641 [==============================] - 257s 70ms/step - loss: 0.3866 - acc: 0.8878 - f1: 0.1839 - val_loss: 0.2162 - val_acc: 0.9367 - val_f1: 0.2148\n",
      "Epoch 4/20\n",
      "3641/3641 [==============================] - 258s 71ms/step - loss: 0.2963 - acc: 0.9157 - f1: 0.1815 - val_loss: 0.2417 - val_acc: 0.9291 - val_f1: 0.1721\n",
      "Epoch 5/20\n",
      "3641/3641 [==============================] - 258s 71ms/step - loss: 0.2498 - acc: 0.9290 - f1: 0.1758 - val_loss: 0.1824 - val_acc: 0.9448 - val_f1: 0.2141\n",
      "Epoch 6/20\n",
      "3641/3641 [==============================] - 258s 71ms/step - loss: 0.2132 - acc: 0.9396 - f1: 0.1781 - val_loss: 0.1497 - val_acc: 0.9546 - val_f1: 0.1844\n",
      "Epoch 7/20\n",
      "3641/3641 [==============================] - 258s 71ms/step - loss: 0.1864 - acc: 0.9476 - f1: 0.1780 - val_loss: 0.1417 - val_acc: 0.9564 - val_f1: 0.2100\n",
      "Epoch 8/20\n",
      "3641/3641 [==============================] - 255s 70ms/step - loss: 0.1642 - acc: 0.9536 - f1: 0.1749 - val_loss: 0.1315 - val_acc: 0.9618 - val_f1: 0.2029\n",
      "Epoch 9/20\n",
      "3641/3641 [==============================] - 255s 70ms/step - loss: 0.1500 - acc: 0.9577 - f1: 0.1775 - val_loss: 0.1334 - val_acc: 0.9601 - val_f1: 0.1998\n",
      "Epoch 10/20\n",
      "3641/3641 [==============================] - 256s 70ms/step - loss: 0.1407 - acc: 0.9613 - f1: 0.1785 - val_loss: 0.1426 - val_acc: 0.9584 - val_f1: 0.1502\n",
      "Epoch 11/20\n",
      "3641/3641 [==============================] - 256s 70ms/step - loss: 0.1057 - acc: 0.9710 - f1: 0.1879 - val_loss: 0.1126 - val_acc: 0.9688 - val_f1: 0.2095\n",
      "Epoch 12/20\n",
      "3641/3641 [==============================] - 256s 70ms/step - loss: 0.0932 - acc: 0.9740 - f1: 0.1940 - val_loss: 0.1140 - val_acc: 0.9702 - val_f1: 0.2138\n",
      "Epoch 13/20\n",
      "3641/3641 [==============================] - 255s 70ms/step - loss: 0.0902 - acc: 0.9749 - f1: 0.1924 - val_loss: 0.1290 - val_acc: 0.9645 - val_f1: 0.2244\n",
      "Epoch 14/20\n",
      "3641/3641 [==============================] - 254s 70ms/step - loss: 0.0734 - acc: 0.9798 - f1: 0.1977 - val_loss: 0.1027 - val_acc: 0.9717 - val_f1: 0.2154\n",
      "Epoch 15/20\n",
      "3641/3641 [==============================] - 255s 70ms/step - loss: 0.0652 - acc: 0.9821 - f1: 0.2060 - val_loss: 0.1267 - val_acc: 0.9666 - val_f1: 0.2263\n",
      "Epoch 16/20\n",
      "3641/3641 [==============================] - 256s 70ms/step - loss: 0.0646 - acc: 0.9829 - f1: 0.2090 - val_loss: 0.1085 - val_acc: 0.9717 - val_f1: 0.2261\n",
      "Epoch 17/20\n",
      "3641/3641 [==============================] - 255s 70ms/step - loss: 0.0560 - acc: 0.9855 - f1: 0.2118 - val_loss: 0.1070 - val_acc: 0.9706 - val_f1: 0.2315\n",
      "Epoch 18/20\n",
      "3641/3641 [==============================] - 255s 70ms/step - loss: 0.0540 - acc: 0.9859 - f1: 0.2125 - val_loss: 0.1031 - val_acc: 0.9728 - val_f1: 0.2382\n",
      "Epoch 19/20\n",
      "3641/3641 [==============================] - 255s 70ms/step - loss: 0.0470 - acc: 0.9883 - f1: 0.2214 - val_loss: 0.1069 - val_acc: 0.9720 - val_f1: 0.2421\n",
      "Wall time: 1h 21min 12s\n"
     ]
    }
   ],
   "source": [
    "%%time\n",
    "# Train the model\n",
    "\n",
    "history = model.fit_generator(\n",
    "                train_datagen,\n",
    "                steps_per_epoch = train_steps,\n",
    "                epochs = EPOCHS,\n",
    "                validation_data = val_datagen,\n",
    "                validation_steps = val_steps,\n",
    "                callbacks = callbacks,\n",
    "                #workers=3,  #generator is not thread-safe\n",
    "                #max_queue_size=10,\n",
    "                )"
   ]
  },
  {
   "cell_type": "code",
   "execution_count": 28,
   "metadata": {},
   "outputs": [],
   "source": [
    "# Save model\n",
    "# model.save('./model/speech_valloss_.h5')"
   ]
  },
  {
   "cell_type": "code",
   "execution_count": 31,
   "metadata": {},
   "outputs": [
    {
     "name": "stdout",
     "output_type": "stream",
     "text": [
      "dict_keys(['val_loss', 'val_acc', 'val_f1', 'loss', 'acc', 'f1', 'lr'])\n"
     ]
    }
   ],
   "source": [
    "print(history.history.keys())"
   ]
  },
  {
   "cell_type": "markdown",
   "metadata": {},
   "source": [
    "# Model Evaluation"
   ]
  },
  {
   "cell_type": "markdown",
   "metadata": {},
   "source": [
    "## 1) Plot learning rate, loss, acc"
   ]
  },
  {
   "cell_type": "code",
   "execution_count": 32,
   "metadata": {},
   "outputs": [],
   "source": [
    "def show_history(history):\n",
    "    fig, ax = plt.subplots(1, 4, figsize=(15,5))\n",
    "    ax[0].set_title('learning rate')\n",
    "    ax[0].plot(history.epoch, history.history[\"lr\"], label=\"lr\")\n",
    "\n",
    "    ax[1].set_title('loss')\n",
    "    ax[1].plot(history.epoch, history.history[\"loss\"], label=\"Train loss\")\n",
    "    ax[1].plot(history.epoch, history.history[\"val_loss\"], label=\"Validation loss\")\n",
    "    \n",
    "    ax[2].set_title('acc')\n",
    "    ax[2].plot(history.epoch, history.history[\"acc\"], label=\"Train acc\")\n",
    "    ax[2].plot(history.epoch, history.history[\"val_acc\"], label=\"Validation acc\")\n",
    "    \n",
    "    ax[3].set_title('f1')\n",
    "    ax[3].plot(history.epoch, history.history[\"f1\"], label=\"Train f1\")\n",
    "    ax[3].plot(history.epoch, history.history[\"val_f1\"], label=\"Validation f1\")\n",
    "    \n",
    "    ax[0].legend()\n",
    "    ax[1].legend()\n",
    "    ax[2].legend()\n",
    "    ax[3].legend()"
   ]
  },
  {
   "cell_type": "code",
   "execution_count": 33,
   "metadata": {},
   "outputs": [
    {
     "data": {
      "image/png": "[encoded data removed]",
      "text/plain": [
       "<Figure size 1080x360 with 4 Axes>"
      ]
     },
     "metadata": {
      "needs_background": "light"
     },
     "output_type": "display_data"
    }
   ],
   "source": [
    "show_history(history)"
   ]
  },
  {
   "cell_type": "markdown",
   "metadata": {},
   "source": [
    "## 2) Loss, acc, f1"
   ]
  },
  {
   "cell_type": "code",
   "execution_count": 31,
   "metadata": {},
   "outputs": [],
   "source": [
    "# Reset data generator\n",
    "\n",
    "val_datagen = val_generator(x_val.values, y_val, batch_size=BATCH_SIZE)"
   ]
  },
  {
   "cell_type": "code",
   "execution_count": 32,
   "metadata": {},
   "outputs": [
    {
     "name": "stderr",
     "output_type": "stream",
     "text": [
      "D:\\Anaconda3\\envs\\tensorflow\\lib\\site-packages\\scipy\\io\\wavfile.py:273: WavFileWarning: Chunk (non-data) not understood, skipping it.\n",
      "  WavFileWarning)\n"
     ]
    },
    {
     "name": "stdout",
     "output_type": "stream",
     "text": [
      "loss: 0.035687975325185285\n",
      "metric (acc): 0.9898038004108767\n",
      "metric (f1): 0.2232470864580926\n",
      "Wall time: 1min 21s\n"
     ]
    }
   ],
   "source": [
    "%%time\n",
    "\n",
    "# score = model.evaluate(x_val, y_val)\n",
    "score = model.evaluate_generator(val_datagen, \n",
    "                                 steps = val_steps\n",
    "                                )\n",
    "print(\"loss:\", score[0])\n",
    "print(\"metric (acc):\", score[1])\n",
    "print(\"metric (f1):\", score[2])"
   ]
  },
  {
   "cell_type": "markdown",
   "metadata": {},
   "source": [
    "## 3) Confusion Matrix"
   ]
  },
  {
   "cell_type": "markdown",
   "metadata": {},
   "source": [
    "There is a problem: val_datagen has shuffle index. So the confusion matrix give wrong result.\n",
    "\n",
    "Solution: make a better data generator"
   ]
  },
  {
   "cell_type": "code",
   "execution_count": 33,
   "metadata": {},
   "outputs": [],
   "source": [
    "# Reset data generator\n",
    "\n",
    "val_datagen = val_generator(x_val.values, y_val, batch_size=BATCH_SIZE)"
   ]
  },
  {
   "cell_type": "code",
   "execution_count": 34,
   "metadata": {},
   "outputs": [
    {
     "name": "stdout",
     "output_type": "stream",
     "text": [
      "Wall time: 14.8 s\n"
     ]
    }
   ],
   "source": [
    "%%time\n",
    "\n",
    "# y_val_pred = model.predict_classes(x_val)\n",
    "y_val_pred_prob = model.predict_generator(val_datagen, \n",
    "                                          steps = val_steps\n",
    "                                         )"
   ]
  },
  {
   "cell_type": "code",
   "execution_count": 35,
   "metadata": {},
   "outputs": [
    {
     "name": "stdout",
     "output_type": "stream",
     "text": [
      "y_val_pred_prob.shape: (6473, 11)\n"
     ]
    },
    {
     "data": {
      "text/plain": [
       "array([[0.0000000e+00, 0.0000000e+00, 0.0000000e+00, ..., 1.8456578e-04,\n",
       "        0.0000000e+00, 0.0000000e+00],\n",
       "       [0.0000000e+00, 0.0000000e+00, 0.0000000e+00, ..., 2.0772219e-04,\n",
       "        0.0000000e+00, 0.0000000e+00],\n",
       "       [0.0000000e+00, 0.0000000e+00, 0.0000000e+00, ..., 2.4849176e-04,\n",
       "        0.0000000e+00, 0.0000000e+00],\n",
       "       ...,\n",
       "       [0.0000000e+00, 0.0000000e+00, 0.0000000e+00, ..., 1.8978119e-04,\n",
       "        0.0000000e+00, 0.0000000e+00],\n",
       "       [5.3644180e-07, 2.4139881e-06, 5.9604645e-05, ..., 9.8231435e-04,\n",
       "        8.6426735e-07, 9.5367432e-07],\n",
       "       [1.1026859e-05, 4.7177076e-05, 1.8268824e-05, ..., 3.9475905e-03,\n",
       "        7.6797160e-06, 5.1556934e-05]], dtype=float32)"
      ]
     },
     "execution_count": 35,
     "metadata": {},
     "output_type": "execute_result"
    }
   ],
   "source": [
    "print('y_val_pred_prob.shape:', y_val_pred_prob.shape)\n",
    "y_val_pred_prob"
   ]
  },
  {
   "cell_type": "code",
   "execution_count": 36,
   "metadata": {},
   "outputs": [
    {
     "data": {
      "text/plain": [
       "array([[1.8456578e-04],\n",
       "       [2.0772219e-04],\n",
       "       [2.4849176e-04],\n",
       "       ...,\n",
       "       [1.8978119e-04],\n",
       "       [7.4986827e-01],\n",
       "       [3.9475905e-03]], dtype=float32)"
      ]
     },
     "execution_count": 36,
     "metadata": {},
     "output_type": "execute_result"
    }
   ],
   "source": [
    "y_val_pred_prob.max(axis=1,keepdims=1)"
   ]
  },
  {
   "cell_type": "code",
   "execution_count": 37,
   "metadata": {},
   "outputs": [
    {
     "data": {
      "text/plain": [
       "array([[0, 0, 0, ..., 1, 0, 0],\n",
       "       [0, 0, 0, ..., 1, 0, 0],\n",
       "       [0, 0, 0, ..., 1, 0, 0],\n",
       "       ...,\n",
       "       [0, 0, 0, ..., 1, 0, 0],\n",
       "       [0, 0, 0, ..., 0, 0, 0],\n",
       "       [0, 0, 0, ..., 1, 0, 0]])"
      ]
     },
     "execution_count": 37,
     "metadata": {},
     "output_type": "execute_result"
    }
   ],
   "source": [
    "y_val_pred = (y_val_pred_prob == y_val_pred_prob.max(axis=1,keepdims=1)).astype(int)\n",
    "y_val_pred"
   ]
  },
  {
   "cell_type": "code",
   "execution_count": 38,
   "metadata": {},
   "outputs": [],
   "source": [
    "import itertools\n",
    "import matplotlib.pyplot as plt\n",
    "\n",
    "def confusion_matrix(y_true, y_pred, labels):\n",
    "    instcount = y_true.shape[0]\n",
    "    n_classes = len(labels)\n",
    "    fp = ((y_true - y_pred) < 0).sum(axis = 0)\n",
    "    fn = ((y_true - y_pred) > 0).sum(axis = 0)\n",
    "    tp = (y_true*y_pred).sum(axis = 0)\n",
    "    tn = ((y_true==0)*(y_pred==0)).sum(axis = 0)\n",
    "    mtx = np.vstack([tp/(tp + fn), fn/(tp + fn), tn/(tn + fp), fp/(tn + fp)]).T\n",
    "    plt.figure(num=None, figsize=(5, 15), dpi=100, facecolor='w', edgecolor='k')\n",
    "    plt.imshow(mtx, interpolation='nearest',cmap='Blues')\n",
    "    plt.title(\"Confusion matrix\")\n",
    "    tick_marks = np.arange(n_classes)\n",
    "    plt.xticks(np.arange(4), ['1 - 1','1 - 0','0 - 0','0 - 1'])\n",
    "    plt.yticks(tick_marks, labels)\n",
    "    for i, j in itertools.product(range(n_classes), range(4)):\n",
    "        plt.text(j, i, round(mtx[i][j],2), horizontalalignment=\"center\")\n",
    "\n",
    "    plt.ylabel('labels')\n",
    "    plt.xlabel('True-Predicted')\n",
    "    plt.show()"
   ]
  },
  {
   "cell_type": "code",
   "execution_count": 39,
   "metadata": {},
   "outputs": [
    {
     "data": {
      "text/plain": [
       "['unknown',\n",
       " 'down',\n",
       " 'go',\n",
       " 'left',\n",
       " 'no',\n",
       " 'off',\n",
       " 'on',\n",
       " 'right',\n",
       " 'stop',\n",
       " 'up',\n",
       " 'yes']"
      ]
     },
     "execution_count": 39,
     "metadata": {},
     "output_type": "execute_result"
    }
   ],
   "source": [
    "labels = df_train['word'].unique().tolist()\n",
    "labels"
   ]
  },
  {
   "cell_type": "code",
   "execution_count": 40,
   "metadata": {},
   "outputs": [
    {
     "data": {
      "text/plain": [
       "(6473, 11)"
      ]
     },
     "execution_count": 40,
     "metadata": {},
     "output_type": "execute_result"
    }
   ],
   "source": [
    "y_val.shape"
   ]
  },
  {
   "cell_type": "code",
   "execution_count": 41,
   "metadata": {},
   "outputs": [
    {
     "data": {
      "text/plain": [
       "(6473, 11)"
      ]
     },
     "execution_count": 41,
     "metadata": {},
     "output_type": "execute_result"
    }
   ],
   "source": [
    "y_val_pred.shape"
   ]
  },
  {
   "cell_type": "code",
   "execution_count": 42,
   "metadata": {},
   "outputs": [
    {
     "data": {
      "image/png": "[encoded data removed]",
      "text/plain": [
       "<Figure size 500x1500 with 1 Axes>"
      ]
     },
     "metadata": {},
     "output_type": "display_data"
    }
   ],
   "source": [
    "confusion_matrix(y_val,\n",
    "                 y_val_pred,\n",
    "                 labels)"
   ]
  },
  {
   "cell_type": "markdown",
   "metadata": {},
   "source": [
    "# 4) Miss-Classification table"
   ]
  },
  {
   "cell_type": "code",
   "execution_count": 43,
   "metadata": {},
   "outputs": [],
   "source": [
    "def miss_classification(y_true, y_pred, classes, percent=False, multi_label=True):\n",
    "    '''\n",
    "    Params:\n",
    "        y_true, y_pred : binary numpy array\n",
    "        classes : list of names classes\n",
    "        percent : display persent of miss classification\n",
    "        multi_label : target can have multy labels\n",
    "    '''\n",
    "\n",
    "    n_classes = len(classes)\n",
    "    fp = ((y_true - y_pred) < 0).astype('int')\n",
    "    fn = ((y_true - y_pred) > 0).astype('int')\n",
    "    mtc = (fn.T @ fp)\n",
    "    if multi_label:\n",
    "        mtc = np.hstack([mtc, (fp.sum(axis = 0) - mtc.sum(axis = 0)).clip(0)[:,None]])\n",
    "        classes.append('As extra class')\n",
    "    if percent:\n",
    "        mtc = (mtc / mtc.sum(axis = 1)[:,None])\n",
    "        mtc = np.nan_to_num(mtc).clip(0,1) * 100\n",
    "        \n",
    "    plt.figure(num=None, figsize=(10.5, 10.5), dpi=100, facecolor='w', edgecolor='k')\n",
    "    plt.imshow(mtc, interpolation='nearest',cmap='Blues')\n",
    "    plt.title(\"Miss-Classification table\")\n",
    "\n",
    "    plt.xticks(np.arange(mtc.shape[1]), classes, rotation=90)\n",
    "    plt.yticks(np.arange(mtc.shape[0]), classes, rotation=0)\n",
    "    \n",
    "    for i in range(mtc.shape[0]):\n",
    "        for j in range(mtc.shape[1]):\n",
    "            plt.text(j, i, int(mtc[i][j]), horizontalalignment=\"center\")\n",
    "    plt.ylabel('True labels')\n",
    "    plt.xlabel('Predicted Miss labeled')\n",
    "    plt.show()"
   ]
  },
  {
   "cell_type": "code",
   "execution_count": 44,
   "metadata": {},
   "outputs": [
    {
     "data": {
      "image/png": "[encoded data removed]",
      "text/plain": [
       "<Figure size 1050x1050 with 1 Axes>"
      ]
     },
     "metadata": {},
     "output_type": "display_data"
    }
   ],
   "source": [
    "miss_classification(y_val,\n",
    "                    y_val_pred,\n",
    "                    labels,\n",
    "                    percent=True)"
   ]
  },
  {
   "cell_type": "markdown",
   "metadata": {},
   "source": [
    "# Prediction"
   ]
  },
  {
   "cell_type": "code",
   "execution_count": 45,
   "metadata": {},
   "outputs": [
    {
     "name": "stdout",
     "output_type": "stream",
     "text": [
      "df_test.shape: (158538, 2)\n"
     ]
    },
    {
     "data": {
      "text/html": [
       "<div>\n",
       "<style scoped>\n",
       "    .dataframe tbody tr th:only-of-type {\n",
       "        vertical-align: middle;\n",
       "    }\n",
       "\n",
       "    .dataframe tbody tr th {\n",
       "        vertical-align: top;\n",
       "    }\n",
       "\n",
       "    .dataframe thead th {\n",
       "        text-align: right;\n",
       "    }\n",
       "</style>\n",
       "<table border=\"1\" class=\"dataframe\">\n",
       "  <thead>\n",
       "    <tr style=\"text-align: right;\">\n",
       "      <th></th>\n",
       "      <th>path</th>\n",
       "      <th>word</th>\n",
       "    </tr>\n",
       "  </thead>\n",
       "  <tbody>\n",
       "    <tr>\n",
       "      <th>0</th>\n",
       "      <td>input\\test\\audio\\clip_000044442.wav</td>\n",
       "      <td>audio</td>\n",
       "    </tr>\n",
       "    <tr>\n",
       "      <th>1</th>\n",
       "      <td>input\\test\\audio\\clip_0000adecb.wav</td>\n",
       "      <td>audio</td>\n",
       "    </tr>\n",
       "    <tr>\n",
       "      <th>2</th>\n",
       "      <td>input\\test\\audio\\clip_0000d4322.wav</td>\n",
       "      <td>audio</td>\n",
       "    </tr>\n",
       "    <tr>\n",
       "      <th>3</th>\n",
       "      <td>input\\test\\audio\\clip_0000fb6fe.wav</td>\n",
       "      <td>audio</td>\n",
       "    </tr>\n",
       "    <tr>\n",
       "      <th>4</th>\n",
       "      <td>input\\test\\audio\\clip_0001d1559.wav</td>\n",
       "      <td>audio</td>\n",
       "    </tr>\n",
       "  </tbody>\n",
       "</table>\n",
       "</div>"
      ],
      "text/plain": [
       "                                  path   word\n",
       "0  input\\test\\audio\\clip_000044442.wav  audio\n",
       "1  input\\test\\audio\\clip_0000adecb.wav  audio\n",
       "2  input\\test\\audio\\clip_0000d4322.wav  audio\n",
       "3  input\\test\\audio\\clip_0000fb6fe.wav  audio\n",
       "4  input\\test\\audio\\clip_0001d1559.wav  audio"
      ]
     },
     "execution_count": 45,
     "metadata": {},
     "output_type": "execute_result"
    }
   ],
   "source": [
    "df_test = get_data('./input/test/')\n",
    "\n",
    "print('df_test.shape:', df_test.shape)\n",
    "df_test.head()"
   ]
  },
  {
   "cell_type": "code",
   "execution_count": 46,
   "metadata": {},
   "outputs": [
    {
     "name": "stdout",
     "output_type": "stream",
     "text": [
      "df_test.shape: (158538, 2)\n"
     ]
    },
    {
     "data": {
      "text/html": [
       "<div>\n",
       "<style scoped>\n",
       "    .dataframe tbody tr th:only-of-type {\n",
       "        vertical-align: middle;\n",
       "    }\n",
       "\n",
       "    .dataframe tbody tr th {\n",
       "        vertical-align: top;\n",
       "    }\n",
       "\n",
       "    .dataframe thead th {\n",
       "        text-align: right;\n",
       "    }\n",
       "</style>\n",
       "<table border=\"1\" class=\"dataframe\">\n",
       "  <thead>\n",
       "    <tr style=\"text-align: right;\">\n",
       "      <th></th>\n",
       "      <th>path</th>\n",
       "      <th>word</th>\n",
       "    </tr>\n",
       "  </thead>\n",
       "  <tbody>\n",
       "    <tr>\n",
       "      <th>0</th>\n",
       "      <td>input\\test\\audio\\clip_000044442.wav</td>\n",
       "      <td>unknown</td>\n",
       "    </tr>\n",
       "    <tr>\n",
       "      <th>1</th>\n",
       "      <td>input\\test\\audio\\clip_0000adecb.wav</td>\n",
       "      <td>unknown</td>\n",
       "    </tr>\n",
       "    <tr>\n",
       "      <th>2</th>\n",
       "      <td>input\\test\\audio\\clip_0000d4322.wav</td>\n",
       "      <td>unknown</td>\n",
       "    </tr>\n",
       "    <tr>\n",
       "      <th>3</th>\n",
       "      <td>input\\test\\audio\\clip_0000fb6fe.wav</td>\n",
       "      <td>unknown</td>\n",
       "    </tr>\n",
       "    <tr>\n",
       "      <th>4</th>\n",
       "      <td>input\\test\\audio\\clip_0001d1559.wav</td>\n",
       "      <td>unknown</td>\n",
       "    </tr>\n",
       "  </tbody>\n",
       "</table>\n",
       "</div>"
      ],
      "text/plain": [
       "                                  path     word\n",
       "0  input\\test\\audio\\clip_000044442.wav  unknown\n",
       "1  input\\test\\audio\\clip_0000adecb.wav  unknown\n",
       "2  input\\test\\audio\\clip_0000d4322.wav  unknown\n",
       "3  input\\test\\audio\\clip_0000fb6fe.wav  unknown\n",
       "4  input\\test\\audio\\clip_0001d1559.wav  unknown"
      ]
     },
     "execution_count": 46,
     "metadata": {},
     "output_type": "execute_result"
    }
   ],
   "source": [
    "df_test['word'] = 'unknown'\n",
    "\n",
    "print('df_test.shape:', df_test.shape)\n",
    "df_test.head()"
   ]
  },
  {
   "cell_type": "code",
   "execution_count": 47,
   "metadata": {},
   "outputs": [],
   "source": [
    "def test_generator(x, batch_size=32, sample_rate=16000):\n",
    "    '''\n",
    "    input: (x = paths)\n",
    "    return: (specgrams_3D (batch_size, 257, 98, 2))\n",
    "    '''\n",
    "    \n",
    "    while True:\n",
    "\n",
    "        # Sequential index\n",
    "        ids = list(range(x.shape[0]))\n",
    "        for start in range(0, len(ids), batch_size):\n",
    "            \n",
    "            # to handle last batch\n",
    "            end = min(start + batch_size, len(ids))\n",
    "            i_val_batch = ids[start:end]\n",
    "\n",
    "            paths = x[i_val_batch]\n",
    "\n",
    "            # read the wav files\n",
    "            wavs  = [wavfile.read(path)[1] for path in paths]\n",
    "\n",
    "            # zero pad the shorter samples and cut off the long ones.\n",
    "            wavs = padding(wavs)\n",
    "\n",
    "            # create spectogram\n",
    "            specgrams_3D = create_3Dspecgram(wavs, sample_rate)      #(16, 129, 126, 2)\n",
    "\n",
    "            yield np.concatenate([specgrams_3D])"
   ]
  },
  {
   "cell_type": "code",
   "execution_count": 48,
   "metadata": {},
   "outputs": [],
   "source": [
    "test_datagen = test_generator(df_test['path'].values, batch_size=BATCH_SIZE)"
   ]
  },
  {
   "cell_type": "code",
   "execution_count": 49,
   "metadata": {},
   "outputs": [
    {
     "name": "stdout",
     "output_type": "stream",
     "text": [
      "(16, 257, 98, 2)\n",
      "(16, 257, 98, 2)\n",
      "(16, 257, 98, 2)\n"
     ]
    }
   ],
   "source": [
    "# test_datagen testing\n",
    "i=1\n",
    "for x_batch in test_datagen:\n",
    "    if i > 3:\n",
    "        break\n",
    "    print(x_batch.shape)\n",
    "    i+=1"
   ]
  },
  {
   "cell_type": "code",
   "execution_count": 50,
   "metadata": {},
   "outputs": [
    {
     "name": "stdout",
     "output_type": "stream",
     "text": [
      "test_steps: 9909\n"
     ]
    }
   ],
   "source": [
    "test_steps = int(np.ceil(df_test.shape[0]/BATCH_SIZE))\n",
    "print('test_steps:', test_steps)"
   ]
  },
  {
   "cell_type": "code",
   "execution_count": 51,
   "metadata": {},
   "outputs": [],
   "source": [
    "# Reset data generator\n",
    "\n",
    "test_datagen = test_generator(df_test['path'].values, batch_size=BATCH_SIZE)"
   ]
  },
  {
   "cell_type": "code",
   "execution_count": 52,
   "metadata": {},
   "outputs": [
    {
     "name": "stdout",
     "output_type": "stream",
     "text": [
      "Wall time: 9min 51s\n"
     ]
    }
   ],
   "source": [
    "%%time\n",
    "\n",
    "predictions_prob = model.predict_generator(test_datagen, \n",
    "                                          steps = test_steps\n",
    "                                         )"
   ]
  },
  {
   "cell_type": "code",
   "execution_count": 54,
   "metadata": {},
   "outputs": [
    {
     "name": "stdout",
     "output_type": "stream",
     "text": [
      "predictions_prob.shape (158538, 11)\n"
     ]
    },
    {
     "data": {
      "text/plain": [
       "array([[2.8550625e-05, 6.1124563e-05, 1.1116266e-05, ..., 4.5540929e-04,\n",
       "        8.9406967e-08, 1.7136335e-05],\n",
       "       [0.0000000e+00, 0.0000000e+00, 0.0000000e+00, ..., 2.1627545e-04,\n",
       "        0.0000000e+00, 0.0000000e+00],\n",
       "       [0.0000000e+00, 2.9802322e-08, 0.0000000e+00, ..., 3.9938092e-04,\n",
       "        0.0000000e+00, 0.0000000e+00],\n",
       "       ...,\n",
       "       [2.1755695e-06, 2.2351742e-06, 1.1622906e-06, ..., 4.5093894e-04,\n",
       "        4.8875809e-05, 9.2387199e-07],\n",
       "       [4.0910244e-03, 8.0054104e-03, 3.7577748e-03, ..., 4.0525407e-02,\n",
       "        9.2433691e-03, 2.4082959e-03],\n",
       "       [0.0000000e+00, 0.0000000e+00, 0.0000000e+00, ..., 2.2482872e-04,\n",
       "        0.0000000e+00, 0.0000000e+00]], dtype=float32)"
      ]
     },
     "execution_count": 54,
     "metadata": {},
     "output_type": "execute_result"
    }
   ],
   "source": [
    "print('predictions_prob.shape', predictions_prob.shape)\n",
    "predictions_prob"
   ]
  },
  {
   "cell_type": "code",
   "execution_count": 55,
   "metadata": {},
   "outputs": [
    {
     "data": {
      "text/plain": [
       "array([[2.7965432e-01],\n",
       "       [2.1627545e-04],\n",
       "       [3.9938092e-04],\n",
       "       ...,\n",
       "       [8.8002771e-02],\n",
       "       [4.0525407e-02],\n",
       "       [2.2482872e-04]], dtype=float32)"
      ]
     },
     "execution_count": 55,
     "metadata": {},
     "output_type": "execute_result"
    }
   ],
   "source": [
    "predictions_prob.max(axis=1,keepdims=1)"
   ]
  },
  {
   "cell_type": "code",
   "execution_count": 56,
   "metadata": {},
   "outputs": [
    {
     "data": {
      "text/plain": [
       "array([[0, 0, 0, ..., 0, 0, 0],\n",
       "       [0, 0, 0, ..., 1, 0, 0],\n",
       "       [0, 0, 0, ..., 1, 0, 0],\n",
       "       ...,\n",
       "       [0, 0, 0, ..., 0, 0, 0],\n",
       "       [0, 0, 0, ..., 1, 0, 0],\n",
       "       [0, 0, 0, ..., 1, 0, 0]])"
      ]
     },
     "execution_count": 56,
     "metadata": {},
     "output_type": "execute_result"
    }
   ],
   "source": [
    "predictions = (predictions_prob == predictions_prob.max(axis=1,keepdims=1)).astype(int)\n",
    "predictions"
   ]
  },
  {
   "cell_type": "code",
   "execution_count": 57,
   "metadata": {},
   "outputs": [
    {
     "name": "stdout",
     "output_type": "stream",
     "text": [
      "predictions_label.shape: (158538,)\n"
     ]
    },
    {
     "data": {
      "text/plain": [
       "array(['no', 'unknown', 'unknown', ..., 'stop', 'unknown', 'unknown'],\n",
       "      dtype='<U7')"
      ]
     },
     "execution_count": 57,
     "metadata": {},
     "output_type": "execute_result"
    }
   ],
   "source": [
    "predictions_label = labelbinarizer.inverse_transform(predictions)\n",
    "print('predictions_label.shape:', predictions_label.shape)\n",
    "predictions_label"
   ]
  },
  {
   "cell_type": "code",
   "execution_count": 58,
   "metadata": {},
   "outputs": [],
   "source": [
    "df_test['labels'] = predictions_label"
   ]
  },
  {
   "cell_type": "code",
   "execution_count": 59,
   "metadata": {},
   "outputs": [],
   "source": [
    "df_test['path'] = df_test['path'].apply(lambda x: str(x).split(\"\\\\\")[-1])"
   ]
  },
  {
   "cell_type": "code",
   "execution_count": 60,
   "metadata": {},
   "outputs": [
    {
     "data": {
      "text/html": [
       "<div>\n",
       "<style scoped>\n",
       "    .dataframe tbody tr th:only-of-type {\n",
       "        vertical-align: middle;\n",
       "    }\n",
       "\n",
       "    .dataframe tbody tr th {\n",
       "        vertical-align: top;\n",
       "    }\n",
       "\n",
       "    .dataframe thead th {\n",
       "        text-align: right;\n",
       "    }\n",
       "</style>\n",
       "<table border=\"1\" class=\"dataframe\">\n",
       "  <thead>\n",
       "    <tr style=\"text-align: right;\">\n",
       "      <th></th>\n",
       "      <th>path</th>\n",
       "      <th>word</th>\n",
       "      <th>labels</th>\n",
       "    </tr>\n",
       "  </thead>\n",
       "  <tbody>\n",
       "    <tr>\n",
       "      <th>0</th>\n",
       "      <td>clip_000044442.wav</td>\n",
       "      <td>unknown</td>\n",
       "      <td>no</td>\n",
       "    </tr>\n",
       "    <tr>\n",
       "      <th>1</th>\n",
       "      <td>clip_0000adecb.wav</td>\n",
       "      <td>unknown</td>\n",
       "      <td>unknown</td>\n",
       "    </tr>\n",
       "    <tr>\n",
       "      <th>2</th>\n",
       "      <td>clip_0000d4322.wav</td>\n",
       "      <td>unknown</td>\n",
       "      <td>unknown</td>\n",
       "    </tr>\n",
       "    <tr>\n",
       "      <th>3</th>\n",
       "      <td>clip_0000fb6fe.wav</td>\n",
       "      <td>unknown</td>\n",
       "      <td>unknown</td>\n",
       "    </tr>\n",
       "    <tr>\n",
       "      <th>4</th>\n",
       "      <td>clip_0001d1559.wav</td>\n",
       "      <td>unknown</td>\n",
       "      <td>unknown</td>\n",
       "    </tr>\n",
       "    <tr>\n",
       "      <th>5</th>\n",
       "      <td>clip_0002256ed.wav</td>\n",
       "      <td>unknown</td>\n",
       "      <td>unknown</td>\n",
       "    </tr>\n",
       "    <tr>\n",
       "      <th>6</th>\n",
       "      <td>clip_0002a4a1f.wav</td>\n",
       "      <td>unknown</td>\n",
       "      <td>unknown</td>\n",
       "    </tr>\n",
       "    <tr>\n",
       "      <th>7</th>\n",
       "      <td>clip_0002d9b83.wav</td>\n",
       "      <td>unknown</td>\n",
       "      <td>unknown</td>\n",
       "    </tr>\n",
       "    <tr>\n",
       "      <th>8</th>\n",
       "      <td>clip_000373a5b.wav</td>\n",
       "      <td>unknown</td>\n",
       "      <td>go</td>\n",
       "    </tr>\n",
       "    <tr>\n",
       "      <th>9</th>\n",
       "      <td>clip_0003c7122.wav</td>\n",
       "      <td>unknown</td>\n",
       "      <td>unknown</td>\n",
       "    </tr>\n",
       "    <tr>\n",
       "      <th>10</th>\n",
       "      <td>clip_0003e6aee.wav</td>\n",
       "      <td>unknown</td>\n",
       "      <td>off</td>\n",
       "    </tr>\n",
       "    <tr>\n",
       "      <th>11</th>\n",
       "      <td>clip_00049951d.wav</td>\n",
       "      <td>unknown</td>\n",
       "      <td>unknown</td>\n",
       "    </tr>\n",
       "    <tr>\n",
       "      <th>12</th>\n",
       "      <td>clip_0004c6707.wav</td>\n",
       "      <td>unknown</td>\n",
       "      <td>unknown</td>\n",
       "    </tr>\n",
       "    <tr>\n",
       "      <th>13</th>\n",
       "      <td>clip_0004f8b63.wav</td>\n",
       "      <td>unknown</td>\n",
       "      <td>yes</td>\n",
       "    </tr>\n",
       "    <tr>\n",
       "      <th>14</th>\n",
       "      <td>clip_00068e281.wav</td>\n",
       "      <td>unknown</td>\n",
       "      <td>no</td>\n",
       "    </tr>\n",
       "    <tr>\n",
       "      <th>15</th>\n",
       "      <td>clip_00069e9cb.wav</td>\n",
       "      <td>unknown</td>\n",
       "      <td>stop</td>\n",
       "    </tr>\n",
       "    <tr>\n",
       "      <th>16</th>\n",
       "      <td>clip_0006f7b8b.wav</td>\n",
       "      <td>unknown</td>\n",
       "      <td>unknown</td>\n",
       "    </tr>\n",
       "    <tr>\n",
       "      <th>17</th>\n",
       "      <td>clip_0007ec7e6.wav</td>\n",
       "      <td>unknown</td>\n",
       "      <td>down</td>\n",
       "    </tr>\n",
       "    <tr>\n",
       "      <th>18</th>\n",
       "      <td>clip_00082a7d6.wav</td>\n",
       "      <td>unknown</td>\n",
       "      <td>unknown</td>\n",
       "    </tr>\n",
       "    <tr>\n",
       "      <th>19</th>\n",
       "      <td>clip_00094eb22.wav</td>\n",
       "      <td>unknown</td>\n",
       "      <td>unknown</td>\n",
       "    </tr>\n",
       "    <tr>\n",
       "      <th>20</th>\n",
       "      <td>clip_000962cbb.wav</td>\n",
       "      <td>unknown</td>\n",
       "      <td>unknown</td>\n",
       "    </tr>\n",
       "    <tr>\n",
       "      <th>21</th>\n",
       "      <td>clip_000a96d0a.wav</td>\n",
       "      <td>unknown</td>\n",
       "      <td>unknown</td>\n",
       "    </tr>\n",
       "    <tr>\n",
       "      <th>22</th>\n",
       "      <td>clip_000b01093.wav</td>\n",
       "      <td>unknown</td>\n",
       "      <td>unknown</td>\n",
       "    </tr>\n",
       "    <tr>\n",
       "      <th>23</th>\n",
       "      <td>clip_000b378f1.wav</td>\n",
       "      <td>unknown</td>\n",
       "      <td>unknown</td>\n",
       "    </tr>\n",
       "    <tr>\n",
       "      <th>24</th>\n",
       "      <td>clip_000b9514b.wav</td>\n",
       "      <td>unknown</td>\n",
       "      <td>unknown</td>\n",
       "    </tr>\n",
       "    <tr>\n",
       "      <th>25</th>\n",
       "      <td>clip_000c07b07.wav</td>\n",
       "      <td>unknown</td>\n",
       "      <td>unknown</td>\n",
       "    </tr>\n",
       "    <tr>\n",
       "      <th>26</th>\n",
       "      <td>clip_000c2c07b.wav</td>\n",
       "      <td>unknown</td>\n",
       "      <td>unknown</td>\n",
       "    </tr>\n",
       "    <tr>\n",
       "      <th>27</th>\n",
       "      <td>clip_000c41da7.wav</td>\n",
       "      <td>unknown</td>\n",
       "      <td>on</td>\n",
       "    </tr>\n",
       "    <tr>\n",
       "      <th>28</th>\n",
       "      <td>clip_000dcdd2c.wav</td>\n",
       "      <td>unknown</td>\n",
       "      <td>unknown</td>\n",
       "    </tr>\n",
       "    <tr>\n",
       "      <th>29</th>\n",
       "      <td>clip_000ed5715.wav</td>\n",
       "      <td>unknown</td>\n",
       "      <td>down</td>\n",
       "    </tr>\n",
       "    <tr>\n",
       "      <th>...</th>\n",
       "      <td>...</td>\n",
       "      <td>...</td>\n",
       "      <td>...</td>\n",
       "    </tr>\n",
       "    <tr>\n",
       "      <th>70</th>\n",
       "      <td>clip_001d11778.wav</td>\n",
       "      <td>unknown</td>\n",
       "      <td>unknown</td>\n",
       "    </tr>\n",
       "    <tr>\n",
       "      <th>71</th>\n",
       "      <td>clip_001eadba5.wav</td>\n",
       "      <td>unknown</td>\n",
       "      <td>unknown</td>\n",
       "    </tr>\n",
       "    <tr>\n",
       "      <th>72</th>\n",
       "      <td>clip_001f1506f.wav</td>\n",
       "      <td>unknown</td>\n",
       "      <td>unknown</td>\n",
       "    </tr>\n",
       "    <tr>\n",
       "      <th>73</th>\n",
       "      <td>clip_001f39338.wav</td>\n",
       "      <td>unknown</td>\n",
       "      <td>unknown</td>\n",
       "    </tr>\n",
       "    <tr>\n",
       "      <th>74</th>\n",
       "      <td>clip_001fd434c.wav</td>\n",
       "      <td>unknown</td>\n",
       "      <td>unknown</td>\n",
       "    </tr>\n",
       "    <tr>\n",
       "      <th>75</th>\n",
       "      <td>clip_001fdd23a.wav</td>\n",
       "      <td>unknown</td>\n",
       "      <td>unknown</td>\n",
       "    </tr>\n",
       "    <tr>\n",
       "      <th>76</th>\n",
       "      <td>clip_002011429.wav</td>\n",
       "      <td>unknown</td>\n",
       "      <td>no</td>\n",
       "    </tr>\n",
       "    <tr>\n",
       "      <th>77</th>\n",
       "      <td>clip_00209953c.wav</td>\n",
       "      <td>unknown</td>\n",
       "      <td>unknown</td>\n",
       "    </tr>\n",
       "    <tr>\n",
       "      <th>78</th>\n",
       "      <td>clip_0020a49ad.wav</td>\n",
       "      <td>unknown</td>\n",
       "      <td>up</td>\n",
       "    </tr>\n",
       "    <tr>\n",
       "      <th>79</th>\n",
       "      <td>clip_002130efd.wav</td>\n",
       "      <td>unknown</td>\n",
       "      <td>unknown</td>\n",
       "    </tr>\n",
       "    <tr>\n",
       "      <th>80</th>\n",
       "      <td>clip_0021662c3.wav</td>\n",
       "      <td>unknown</td>\n",
       "      <td>no</td>\n",
       "    </tr>\n",
       "    <tr>\n",
       "      <th>81</th>\n",
       "      <td>clip_00219963b.wav</td>\n",
       "      <td>unknown</td>\n",
       "      <td>unknown</td>\n",
       "    </tr>\n",
       "    <tr>\n",
       "      <th>82</th>\n",
       "      <td>clip_0022ed555.wav</td>\n",
       "      <td>unknown</td>\n",
       "      <td>unknown</td>\n",
       "    </tr>\n",
       "    <tr>\n",
       "      <th>83</th>\n",
       "      <td>clip_002348727.wav</td>\n",
       "      <td>unknown</td>\n",
       "      <td>unknown</td>\n",
       "    </tr>\n",
       "    <tr>\n",
       "      <th>84</th>\n",
       "      <td>clip_0023980f9.wav</td>\n",
       "      <td>unknown</td>\n",
       "      <td>unknown</td>\n",
       "    </tr>\n",
       "    <tr>\n",
       "      <th>85</th>\n",
       "      <td>clip_0023bf6a0.wav</td>\n",
       "      <td>unknown</td>\n",
       "      <td>unknown</td>\n",
       "    </tr>\n",
       "    <tr>\n",
       "      <th>86</th>\n",
       "      <td>clip_0023ed3f3.wav</td>\n",
       "      <td>unknown</td>\n",
       "      <td>down</td>\n",
       "    </tr>\n",
       "    <tr>\n",
       "      <th>87</th>\n",
       "      <td>clip_0023f6e02.wav</td>\n",
       "      <td>unknown</td>\n",
       "      <td>no</td>\n",
       "    </tr>\n",
       "    <tr>\n",
       "      <th>88</th>\n",
       "      <td>clip_0024320a1.wav</td>\n",
       "      <td>unknown</td>\n",
       "      <td>off</td>\n",
       "    </tr>\n",
       "    <tr>\n",
       "      <th>89</th>\n",
       "      <td>clip_00246e676.wav</td>\n",
       "      <td>unknown</td>\n",
       "      <td>unknown</td>\n",
       "    </tr>\n",
       "    <tr>\n",
       "      <th>90</th>\n",
       "      <td>clip_0024bfdde.wav</td>\n",
       "      <td>unknown</td>\n",
       "      <td>unknown</td>\n",
       "    </tr>\n",
       "    <tr>\n",
       "      <th>91</th>\n",
       "      <td>clip_002549abb.wav</td>\n",
       "      <td>unknown</td>\n",
       "      <td>left</td>\n",
       "    </tr>\n",
       "    <tr>\n",
       "      <th>92</th>\n",
       "      <td>clip_0025e94de.wav</td>\n",
       "      <td>unknown</td>\n",
       "      <td>right</td>\n",
       "    </tr>\n",
       "    <tr>\n",
       "      <th>93</th>\n",
       "      <td>clip_002623fd6.wav</td>\n",
       "      <td>unknown</td>\n",
       "      <td>unknown</td>\n",
       "    </tr>\n",
       "    <tr>\n",
       "      <th>94</th>\n",
       "      <td>clip_00262610a.wav</td>\n",
       "      <td>unknown</td>\n",
       "      <td>off</td>\n",
       "    </tr>\n",
       "    <tr>\n",
       "      <th>95</th>\n",
       "      <td>clip_002649edd.wav</td>\n",
       "      <td>unknown</td>\n",
       "      <td>unknown</td>\n",
       "    </tr>\n",
       "    <tr>\n",
       "      <th>96</th>\n",
       "      <td>clip_0026d5853.wav</td>\n",
       "      <td>unknown</td>\n",
       "      <td>go</td>\n",
       "    </tr>\n",
       "    <tr>\n",
       "      <th>97</th>\n",
       "      <td>clip_0026f08f3.wav</td>\n",
       "      <td>unknown</td>\n",
       "      <td>unknown</td>\n",
       "    </tr>\n",
       "    <tr>\n",
       "      <th>98</th>\n",
       "      <td>clip_002716f99.wav</td>\n",
       "      <td>unknown</td>\n",
       "      <td>unknown</td>\n",
       "    </tr>\n",
       "    <tr>\n",
       "      <th>99</th>\n",
       "      <td>clip_00275568b.wav</td>\n",
       "      <td>unknown</td>\n",
       "      <td>unknown</td>\n",
       "    </tr>\n",
       "  </tbody>\n",
       "</table>\n",
       "<p>100 rows × 3 columns</p>\n",
       "</div>"
      ],
      "text/plain": [
       "                  path     word   labels\n",
       "0   clip_000044442.wav  unknown       no\n",
       "1   clip_0000adecb.wav  unknown  unknown\n",
       "2   clip_0000d4322.wav  unknown  unknown\n",
       "3   clip_0000fb6fe.wav  unknown  unknown\n",
       "4   clip_0001d1559.wav  unknown  unknown\n",
       "5   clip_0002256ed.wav  unknown  unknown\n",
       "6   clip_0002a4a1f.wav  unknown  unknown\n",
       "7   clip_0002d9b83.wav  unknown  unknown\n",
       "8   clip_000373a5b.wav  unknown       go\n",
       "9   clip_0003c7122.wav  unknown  unknown\n",
       "10  clip_0003e6aee.wav  unknown      off\n",
       "11  clip_00049951d.wav  unknown  unknown\n",
       "12  clip_0004c6707.wav  unknown  unknown\n",
       "13  clip_0004f8b63.wav  unknown      yes\n",
       "14  clip_00068e281.wav  unknown       no\n",
       "15  clip_00069e9cb.wav  unknown     stop\n",
       "16  clip_0006f7b8b.wav  unknown  unknown\n",
       "17  clip_0007ec7e6.wav  unknown     down\n",
       "18  clip_00082a7d6.wav  unknown  unknown\n",
       "19  clip_00094eb22.wav  unknown  unknown\n",
       "20  clip_000962cbb.wav  unknown  unknown\n",
       "21  clip_000a96d0a.wav  unknown  unknown\n",
       "22  clip_000b01093.wav  unknown  unknown\n",
       "23  clip_000b378f1.wav  unknown  unknown\n",
       "24  clip_000b9514b.wav  unknown  unknown\n",
       "25  clip_000c07b07.wav  unknown  unknown\n",
       "26  clip_000c2c07b.wav  unknown  unknown\n",
       "27  clip_000c41da7.wav  unknown       on\n",
       "28  clip_000dcdd2c.wav  unknown  unknown\n",
       "29  clip_000ed5715.wav  unknown     down\n",
       "..                 ...      ...      ...\n",
       "70  clip_001d11778.wav  unknown  unknown\n",
       "71  clip_001eadba5.wav  unknown  unknown\n",
       "72  clip_001f1506f.wav  unknown  unknown\n",
       "73  clip_001f39338.wav  unknown  unknown\n",
       "74  clip_001fd434c.wav  unknown  unknown\n",
       "75  clip_001fdd23a.wav  unknown  unknown\n",
       "76  clip_002011429.wav  unknown       no\n",
       "77  clip_00209953c.wav  unknown  unknown\n",
       "78  clip_0020a49ad.wav  unknown       up\n",
       "79  clip_002130efd.wav  unknown  unknown\n",
       "80  clip_0021662c3.wav  unknown       no\n",
       "81  clip_00219963b.wav  unknown  unknown\n",
       "82  clip_0022ed555.wav  unknown  unknown\n",
       "83  clip_002348727.wav  unknown  unknown\n",
       "84  clip_0023980f9.wav  unknown  unknown\n",
       "85  clip_0023bf6a0.wav  unknown  unknown\n",
       "86  clip_0023ed3f3.wav  unknown     down\n",
       "87  clip_0023f6e02.wav  unknown       no\n",
       "88  clip_0024320a1.wav  unknown      off\n",
       "89  clip_00246e676.wav  unknown  unknown\n",
       "90  clip_0024bfdde.wav  unknown  unknown\n",
       "91  clip_002549abb.wav  unknown     left\n",
       "92  clip_0025e94de.wav  unknown    right\n",
       "93  clip_002623fd6.wav  unknown  unknown\n",
       "94  clip_00262610a.wav  unknown      off\n",
       "95  clip_002649edd.wav  unknown  unknown\n",
       "96  clip_0026d5853.wav  unknown       go\n",
       "97  clip_0026f08f3.wav  unknown  unknown\n",
       "98  clip_002716f99.wav  unknown  unknown\n",
       "99  clip_00275568b.wav  unknown  unknown\n",
       "\n",
       "[100 rows x 3 columns]"
      ]
     },
     "execution_count": 60,
     "metadata": {},
     "output_type": "execute_result"
    }
   ],
   "source": [
    "df_test.head(100)"
   ]
  },
  {
   "cell_type": "code",
   "execution_count": 61,
   "metadata": {},
   "outputs": [
    {
     "data": {
      "text/html": [
       "<div>\n",
       "<style scoped>\n",
       "    .dataframe tbody tr th:only-of-type {\n",
       "        vertical-align: middle;\n",
       "    }\n",
       "\n",
       "    .dataframe tbody tr th {\n",
       "        vertical-align: top;\n",
       "    }\n",
       "\n",
       "    .dataframe thead th {\n",
       "        text-align: right;\n",
       "    }\n",
       "</style>\n",
       "<table border=\"1\" class=\"dataframe\">\n",
       "  <thead>\n",
       "    <tr style=\"text-align: right;\">\n",
       "      <th></th>\n",
       "      <th>fname</th>\n",
       "      <th>label</th>\n",
       "    </tr>\n",
       "  </thead>\n",
       "  <tbody>\n",
       "    <tr>\n",
       "      <th>0</th>\n",
       "      <td>clip_000044442.wav</td>\n",
       "      <td>no</td>\n",
       "    </tr>\n",
       "    <tr>\n",
       "      <th>1</th>\n",
       "      <td>clip_0000adecb.wav</td>\n",
       "      <td>unknown</td>\n",
       "    </tr>\n",
       "    <tr>\n",
       "      <th>2</th>\n",
       "      <td>clip_0000d4322.wav</td>\n",
       "      <td>unknown</td>\n",
       "    </tr>\n",
       "    <tr>\n",
       "      <th>3</th>\n",
       "      <td>clip_0000fb6fe.wav</td>\n",
       "      <td>unknown</td>\n",
       "    </tr>\n",
       "    <tr>\n",
       "      <th>4</th>\n",
       "      <td>clip_0001d1559.wav</td>\n",
       "      <td>unknown</td>\n",
       "    </tr>\n",
       "    <tr>\n",
       "      <th>5</th>\n",
       "      <td>clip_0002256ed.wav</td>\n",
       "      <td>unknown</td>\n",
       "    </tr>\n",
       "    <tr>\n",
       "      <th>6</th>\n",
       "      <td>clip_0002a4a1f.wav</td>\n",
       "      <td>unknown</td>\n",
       "    </tr>\n",
       "    <tr>\n",
       "      <th>7</th>\n",
       "      <td>clip_0002d9b83.wav</td>\n",
       "      <td>unknown</td>\n",
       "    </tr>\n",
       "    <tr>\n",
       "      <th>8</th>\n",
       "      <td>clip_000373a5b.wav</td>\n",
       "      <td>go</td>\n",
       "    </tr>\n",
       "    <tr>\n",
       "      <th>9</th>\n",
       "      <td>clip_0003c7122.wav</td>\n",
       "      <td>unknown</td>\n",
       "    </tr>\n",
       "  </tbody>\n",
       "</table>\n",
       "</div>"
      ],
      "text/plain": [
       "                fname    label\n",
       "0  clip_000044442.wav       no\n",
       "1  clip_0000adecb.wav  unknown\n",
       "2  clip_0000d4322.wav  unknown\n",
       "3  clip_0000fb6fe.wav  unknown\n",
       "4  clip_0001d1559.wav  unknown\n",
       "5  clip_0002256ed.wav  unknown\n",
       "6  clip_0002a4a1f.wav  unknown\n",
       "7  clip_0002d9b83.wav  unknown\n",
       "8  clip_000373a5b.wav       go\n",
       "9  clip_0003c7122.wav  unknown"
      ]
     },
     "execution_count": 61,
     "metadata": {},
     "output_type": "execute_result"
    }
   ],
   "source": [
    "submission = pd.DataFrame({'fname': df_test['path'], 'label': df_test['labels']})\n",
    "submission.head(10)"
   ]
  },
  {
   "cell_type": "code",
   "execution_count": 62,
   "metadata": {},
   "outputs": [],
   "source": [
    "submission.to_csv('./output/submission.csv', index=False)"
   ]
  },
  {
   "cell_type": "code",
   "execution_count": null,
   "metadata": {},
   "outputs": [],
   "source": []
  }
 ],
 "metadata": {
  "kernelspec": {
   "display_name": "Python 3",
   "language": "python",
   "name": "python3"
  },
  "language_info": {
   "codemirror_mode": {
    "name": "ipython",
    "version": 3
   },
   "file_extension": ".py",
   "mimetype": "text/x-python",
   "name": "python",
   "nbconvert_exporter": "python",
   "pygments_lexer": "ipython3",
   "version": "3.6.8"
  }
 },
 "nbformat": 4,
 "nbformat_minor": 2
}
