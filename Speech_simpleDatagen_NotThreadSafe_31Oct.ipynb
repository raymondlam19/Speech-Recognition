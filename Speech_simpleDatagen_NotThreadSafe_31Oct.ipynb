{
 "cells": [
  {
   "cell_type": "markdown",
   "metadata": {},
   "source": [
    "Note: Your generator is NOT thread-safe.Keras requires a thread-safe generator when`use_multiprocessing=False, workers > 1`\n",
    "\n",
    "    Improvement:\n",
    "    1) Spectrogram (nperseg, noverlap, reshape)\n",
    "    2) Insert background noise randomly (data augmentation)\n",
    "    3) Develop a better data generator that is able to shuffle, handle the last batch\n",
    "    4) Try different model architecture"
   ]
  },
  {
   "cell_type": "code",
   "execution_count": 1,
   "metadata": {},
   "outputs": [],
   "source": [
    "import numpy as np\n",
    "import pandas as pd\n",
    "from matplotlib import pyplot as plt\n",
    "\n",
    "from pathlib import Path\n",
    "import time\n",
    "from scipy.io import wavfile\n",
    "from scipy import signal"
   ]
  },
  {
   "cell_type": "markdown",
   "metadata": {},
   "source": [
    "# df_train"
   ]
  },
  {
   "cell_type": "code",
   "execution_count": 2,
   "metadata": {},
   "outputs": [],
   "source": [
    "def get_data(path):\n",
    "    ''' Returns dataframe with columns: 'path', 'word'.'''\n",
    "    datadir = Path(path)\n",
    "    files = [(str(f), f.parts[-2]) for f in datadir.glob('**/*.wav')]\n",
    "    df = pd.DataFrame(files, columns=['path', 'word'])\n",
    "    \n",
    "    return df"
   ]
  },
  {
   "cell_type": "code",
   "execution_count": 3,
   "metadata": {},
   "outputs": [
    {
     "name": "stdout",
     "output_type": "stream",
     "text": [
      "df_train.shape: (64727, 2)\n"
     ]
    },
    {
     "data": {
      "text/html": [
       "<div>\n",
       "<style scoped>\n",
       "    .dataframe tbody tr th:only-of-type {\n",
       "        vertical-align: middle;\n",
       "    }\n",
       "\n",
       "    .dataframe tbody tr th {\n",
       "        vertical-align: top;\n",
       "    }\n",
       "\n",
       "    .dataframe thead th {\n",
       "        text-align: right;\n",
       "    }\n",
       "</style>\n",
       "<table border=\"1\" class=\"dataframe\">\n",
       "  <thead>\n",
       "    <tr style=\"text-align: right;\">\n",
       "      <th></th>\n",
       "      <th>path</th>\n",
       "      <th>word</th>\n",
       "    </tr>\n",
       "  </thead>\n",
       "  <tbody>\n",
       "    <tr>\n",
       "      <th>0</th>\n",
       "      <td>input\\train\\audio\\bed\\00176480_nohash_0.wav</td>\n",
       "      <td>bed</td>\n",
       "    </tr>\n",
       "    <tr>\n",
       "      <th>1</th>\n",
       "      <td>input\\train\\audio\\bed\\004ae714_nohash_0.wav</td>\n",
       "      <td>bed</td>\n",
       "    </tr>\n",
       "    <tr>\n",
       "      <th>2</th>\n",
       "      <td>input\\train\\audio\\bed\\004ae714_nohash_1.wav</td>\n",
       "      <td>bed</td>\n",
       "    </tr>\n",
       "    <tr>\n",
       "      <th>3</th>\n",
       "      <td>input\\train\\audio\\bed\\00f0204f_nohash_0.wav</td>\n",
       "      <td>bed</td>\n",
       "    </tr>\n",
       "    <tr>\n",
       "      <th>4</th>\n",
       "      <td>input\\train\\audio\\bed\\00f0204f_nohash_1.wav</td>\n",
       "      <td>bed</td>\n",
       "    </tr>\n",
       "  </tbody>\n",
       "</table>\n",
       "</div>"
      ],
      "text/plain": [
       "                                          path word\n",
       "0  input\\train\\audio\\bed\\00176480_nohash_0.wav  bed\n",
       "1  input\\train\\audio\\bed\\004ae714_nohash_0.wav  bed\n",
       "2  input\\train\\audio\\bed\\004ae714_nohash_1.wav  bed\n",
       "3  input\\train\\audio\\bed\\00f0204f_nohash_0.wav  bed\n",
       "4  input\\train\\audio\\bed\\00f0204f_nohash_1.wav  bed"
      ]
     },
     "execution_count": 3,
     "metadata": {},
     "output_type": "execute_result"
    }
   ],
   "source": [
    "df_train = get_data('./input/train/')\n",
    "\n",
    "print('df_train.shape:', df_train.shape)\n",
    "df_train.head()"
   ]
  },
  {
   "cell_type": "code",
   "execution_count": 4,
   "metadata": {},
   "outputs": [
    {
     "name": "stdout",
     "output_type": "stream",
     "text": [
      "31\n"
     ]
    },
    {
     "data": {
      "text/plain": [
       "array(['bed', 'bird', 'cat', 'dog', 'down', 'eight', 'five', 'four', 'go',\n",
       "       'happy', 'house', 'left', 'marvin', 'nine', 'no', 'off', 'on',\n",
       "       'one', 'right', 'seven', 'sheila', 'six', 'stop', 'three', 'tree',\n",
       "       'two', 'up', 'wow', 'yes', 'zero', '_background_noise_'],\n",
       "      dtype=object)"
      ]
     },
     "execution_count": 4,
     "metadata": {},
     "output_type": "execute_result"
    }
   ],
   "source": [
    "print(len(df_train['word'].unique()))\n",
    "df_train['word'].unique()"
   ]
  },
  {
   "cell_type": "code",
   "execution_count": 5,
   "metadata": {},
   "outputs": [],
   "source": [
    "def prepare_data(df):\n",
    "    '''Transform data into something more useful.'''\n",
    "    train_words = ['yes', 'no', 'up', 'down', 'left', 'right', 'on', 'off', 'stop', 'go']\n",
    "    words = df['word'].unique().tolist()\n",
    "    silence = ['_background_noise_']\n",
    "    unknown = [w for w in words if w not in silence + train_words]\n",
    "\n",
    "    # there are only 6 silence files. Mark them as unknown too.\n",
    "    df.loc[df['word'].isin(silence), 'word'] = 'unknown'\n",
    "    df.loc[df['word'].isin(unknown), 'word'] = 'unknown'\n",
    "    \n",
    "    return df"
   ]
  },
  {
   "cell_type": "code",
   "execution_count": 6,
   "metadata": {},
   "outputs": [
    {
     "name": "stdout",
     "output_type": "stream",
     "text": [
      "df_train.shape: (64727, 2)\n"
     ]
    },
    {
     "data": {
      "text/html": [
       "<div>\n",
       "<style scoped>\n",
       "    .dataframe tbody tr th:only-of-type {\n",
       "        vertical-align: middle;\n",
       "    }\n",
       "\n",
       "    .dataframe tbody tr th {\n",
       "        vertical-align: top;\n",
       "    }\n",
       "\n",
       "    .dataframe thead th {\n",
       "        text-align: right;\n",
       "    }\n",
       "</style>\n",
       "<table border=\"1\" class=\"dataframe\">\n",
       "  <thead>\n",
       "    <tr style=\"text-align: right;\">\n",
       "      <th></th>\n",
       "      <th>path</th>\n",
       "      <th>word</th>\n",
       "    </tr>\n",
       "  </thead>\n",
       "  <tbody>\n",
       "    <tr>\n",
       "      <th>0</th>\n",
       "      <td>input\\train\\audio\\bed\\00176480_nohash_0.wav</td>\n",
       "      <td>unknown</td>\n",
       "    </tr>\n",
       "    <tr>\n",
       "      <th>1</th>\n",
       "      <td>input\\train\\audio\\bed\\004ae714_nohash_0.wav</td>\n",
       "      <td>unknown</td>\n",
       "    </tr>\n",
       "    <tr>\n",
       "      <th>2</th>\n",
       "      <td>input\\train\\audio\\bed\\004ae714_nohash_1.wav</td>\n",
       "      <td>unknown</td>\n",
       "    </tr>\n",
       "    <tr>\n",
       "      <th>3</th>\n",
       "      <td>input\\train\\audio\\bed\\00f0204f_nohash_0.wav</td>\n",
       "      <td>unknown</td>\n",
       "    </tr>\n",
       "    <tr>\n",
       "      <th>4</th>\n",
       "      <td>input\\train\\audio\\bed\\00f0204f_nohash_1.wav</td>\n",
       "      <td>unknown</td>\n",
       "    </tr>\n",
       "  </tbody>\n",
       "</table>\n",
       "</div>"
      ],
      "text/plain": [
       "                                          path     word\n",
       "0  input\\train\\audio\\bed\\00176480_nohash_0.wav  unknown\n",
       "1  input\\train\\audio\\bed\\004ae714_nohash_0.wav  unknown\n",
       "2  input\\train\\audio\\bed\\004ae714_nohash_1.wav  unknown\n",
       "3  input\\train\\audio\\bed\\00f0204f_nohash_0.wav  unknown\n",
       "4  input\\train\\audio\\bed\\00f0204f_nohash_1.wav  unknown"
      ]
     },
     "execution_count": 6,
     "metadata": {},
     "output_type": "execute_result"
    }
   ],
   "source": [
    "df_train = prepare_data(df_train)\n",
    "\n",
    "print('df_train.shape:', df_train.shape)\n",
    "df_train.head()"
   ]
  },
  {
   "cell_type": "code",
   "execution_count": 7,
   "metadata": {},
   "outputs": [
    {
     "name": "stdout",
     "output_type": "stream",
     "text": [
      "11\n"
     ]
    },
    {
     "data": {
      "text/plain": [
       "array(['unknown', 'down', 'go', 'left', 'no', 'off', 'on', 'right',\n",
       "       'stop', 'up', 'yes'], dtype=object)"
      ]
     },
     "execution_count": 7,
     "metadata": {},
     "output_type": "execute_result"
    }
   ],
   "source": [
    "print(len(df_train['word'].unique()))\n",
    "df_train['word'].unique()"
   ]
  },
  {
   "cell_type": "markdown",
   "metadata": {},
   "source": [
    "# Create training and val set"
   ]
  },
  {
   "cell_type": "code",
   "execution_count": 8,
   "metadata": {},
   "outputs": [],
   "source": [
    "from sklearn.preprocessing import LabelBinarizer\n",
    "\n",
    "labelbinarizer = LabelBinarizer()\n",
    "x = df_train['path']\n",
    "y = labelbinarizer.fit_transform(df_train['word'])"
   ]
  },
  {
   "cell_type": "code",
   "execution_count": 9,
   "metadata": {},
   "outputs": [
    {
     "name": "stdout",
     "output_type": "stream",
     "text": [
      "y.shape: (64727, 11)\n"
     ]
    },
    {
     "data": {
      "text/plain": [
       "array([[0, 0, 0, ..., 1, 0, 0],\n",
       "       [0, 0, 0, ..., 1, 0, 0],\n",
       "       [0, 0, 0, ..., 1, 0, 0],\n",
       "       ...,\n",
       "       [0, 0, 0, ..., 1, 0, 0],\n",
       "       [0, 0, 0, ..., 1, 0, 0],\n",
       "       [0, 0, 0, ..., 1, 0, 0]])"
      ]
     },
     "execution_count": 9,
     "metadata": {},
     "output_type": "execute_result"
    }
   ],
   "source": [
    "print('y.shape:', y.shape)\n",
    "y"
   ]
  },
  {
   "cell_type": "code",
   "execution_count": 10,
   "metadata": {},
   "outputs": [],
   "source": [
    "VALIDATION_SPLIT = 0.1"
   ]
  },
  {
   "cell_type": "code",
   "execution_count": 11,
   "metadata": {},
   "outputs": [
    {
     "name": "stdout",
     "output_type": "stream",
     "text": [
      "x_train.shape (58254,)\n",
      "x_val.shape (6473,)\n",
      "y_train.shape (58254, 11)\n",
      "y_val.shape (6473, 11)\n"
     ]
    }
   ],
   "source": [
    "from sklearn.model_selection import train_test_split\n",
    "\n",
    "x_train, x_val, y_train, y_val = train_test_split(x, y,\n",
    "                                                  test_size = VALIDATION_SPLIT,\n",
    "                                                  stratify = y)  #distribute evenly according to y\n",
    "\n",
    "print('x_train.shape', x_train.shape)\n",
    "print('x_val.shape', x_val.shape)\n",
    "print('y_train.shape', y_train.shape)\n",
    "print('y_val.shape', y_val.shape)"
   ]
  },
  {
   "cell_type": "markdown",
   "metadata": {},
   "source": [
    "# batch_generator"
   ]
  },
  {
   "cell_type": "code",
   "execution_count": 12,
   "metadata": {},
   "outputs": [],
   "source": [
    "def get_specgrams(paths, nsamples=16000):\n",
    "    '''\n",
    "    Given list of paths, return specgrams.\n",
    "    '''\n",
    "    \n",
    "    # read the wav files\n",
    "    wavs = [wavfile.read(path)[1] for path in paths]\n",
    "\n",
    "    # zero pad the shorter samples and cut off the long ones.\n",
    "    data = [] \n",
    "    for wav in wavs:\n",
    "        if wav.size < 16000:\n",
    "            d = np.pad(wav, (nsamples - wav.size, 0), mode='constant')\n",
    "        else:\n",
    "            d = wav[0:nsamples]\n",
    "        data.append(d)\n",
    "\n",
    "    # get the specgram\n",
    "    specgrams = [signal.spectrogram(d, nperseg=256, noverlap=128)[2] for d in data]\n",
    "    specgrams = [s.reshape(129, 124, -1) for s in specgrams]\n",
    "    \n",
    "    return specgrams"
   ]
  },
  {
   "cell_type": "code",
   "execution_count": 13,
   "metadata": {},
   "outputs": [],
   "source": [
    "def batch_generator(X, y, batch_size=32):\n",
    "    '''\n",
    "    Return a random image from X, y\n",
    "    '''\n",
    "    \n",
    "    while True:\n",
    "        # choose batch_size random images / labels from the data\n",
    "        idx = np.random.randint(0, X.shape[0], batch_size)\n",
    "        paths = X[idx]\n",
    "        labels = y[idx]\n",
    "        \n",
    "        specgrams = get_specgrams(paths)\n",
    "\n",
    "        yield np.concatenate([specgrams]), labels"
   ]
  },
  {
   "cell_type": "code",
   "execution_count": 14,
   "metadata": {},
   "outputs": [],
   "source": [
    "BATCH_SIZE = 16"
   ]
  },
  {
   "cell_type": "code",
   "execution_count": 15,
   "metadata": {},
   "outputs": [],
   "source": [
    "train_datagen = batch_generator(x_train.values, y_train, batch_size=BATCH_SIZE)\n",
    "val_datagen = batch_generator(x_val.values, y_val, batch_size=BATCH_SIZE)"
   ]
  },
  {
   "cell_type": "code",
   "execution_count": 16,
   "metadata": {},
   "outputs": [
    {
     "name": "stdout",
     "output_type": "stream",
     "text": [
      "(16, 129, 124, 1)\n",
      "(16, 11)\n",
      "(16, 129, 124, 1)\n",
      "(16, 11)\n",
      "(16, 129, 124, 1)\n",
      "(16, 11)\n",
      "(16, 129, 124, 1)\n",
      "(16, 11)\n",
      "(16, 129, 124, 1)\n",
      "(16, 11)\n"
     ]
    }
   ],
   "source": [
    "# train_datagen testing\n",
    "i=1\n",
    "for x_batch, y_batch in train_datagen:\n",
    "    if i > 5:\n",
    "        break\n",
    "    print(x_batch.shape)\n",
    "    print(y_batch.shape)\n",
    "    i+=1"
   ]
  },
  {
   "cell_type": "markdown",
   "metadata": {},
   "source": [
    "# Model"
   ]
  },
  {
   "cell_type": "code",
   "execution_count": 17,
   "metadata": {},
   "outputs": [
    {
     "name": "stderr",
     "output_type": "stream",
     "text": [
      "Using TensorFlow backend.\n"
     ]
    }
   ],
   "source": [
    "import keras\n",
    "from keras import backend as K\n",
    "import tensorflow as tf\n",
    "\n",
    "from keras.layers import Conv2D, BatchNormalization, MaxPooling2D, Dense, Input, Dropout, Flatten\n",
    "from keras.models import Model\n",
    "from keras.optimizers import Adam\n",
    "from keras.callbacks import TensorBoard"
   ]
  },
  {
   "cell_type": "code",
   "execution_count": 18,
   "metadata": {},
   "outputs": [],
   "source": [
    "# Metric: F1\n",
    "\n",
    "def f1(y_true, y_pred):\n",
    "    \n",
    "    tp = K.sum(K.cast(y_true*y_pred, 'float'), axis=0)\n",
    "    fp = K.sum(K.cast((1-y_true)*y_pred, 'float'), axis=0)\n",
    "    fn = K.sum(K.cast(y_true*(1-y_pred), 'float'), axis=0)\n",
    "\n",
    "    p = tp / (tp + fp + K.epsilon())\n",
    "    r = tp / (tp + fn + K.epsilon())\n",
    "\n",
    "    f1 = 2*p*r / (p+r+K.epsilon())\n",
    "    f1 = tf.where(tf.is_nan(f1), tf.zeros_like(f1), f1)\n",
    "    return K.mean(f1)"
   ]
  },
  {
   "cell_type": "code",
   "execution_count": 19,
   "metadata": {},
   "outputs": [],
   "source": [
    "def create_model(input_shape):\n",
    "    '''Create a keras model.'''\n",
    "    inputs = Input(shape=input_shape)\n",
    "\n",
    "    model = BatchNormalization()(inputs)\n",
    "    model = Conv2D(16, (3, 3), activation='elu')(model)\n",
    "    model = Dropout(0.25)(model)\n",
    "    model = MaxPooling2D((2, 2))(model)\n",
    "\n",
    "    model = Flatten()(model)\n",
    "    model = Dense(32, activation='elu')(model)\n",
    "    model = Dropout(0.25)(model)\n",
    "    \n",
    "    # 11 because background noise has been taken out\n",
    "    outputs = Dense(11, activation='sigmoid')(model)\n",
    "    \n",
    "    model = Model(inputs, outputs)\n",
    "    \n",
    "    model.summary()\n",
    "    \n",
    "    return model"
   ]
  },
  {
   "cell_type": "code",
   "execution_count": 20,
   "metadata": {},
   "outputs": [],
   "source": [
    "INPUT_SHAPE = (129, 124, 1)"
   ]
  },
  {
   "cell_type": "code",
   "execution_count": 21,
   "metadata": {},
   "outputs": [
    {
     "name": "stdout",
     "output_type": "stream",
     "text": [
      "WARNING:tensorflow:From D:\\Anaconda3\\envs\\tensorflow\\lib\\site-packages\\keras\\backend\\tensorflow_backend.py:95: The name tf.reset_default_graph is deprecated. Please use tf.compat.v1.reset_default_graph instead.\n",
      "\n",
      "WARNING:tensorflow:From D:\\Anaconda3\\envs\\tensorflow\\lib\\site-packages\\keras\\backend\\tensorflow_backend.py:98: The name tf.placeholder_with_default is deprecated. Please use tf.compat.v1.placeholder_with_default instead.\n",
      "\n",
      "WARNING:tensorflow:From D:\\Anaconda3\\envs\\tensorflow\\lib\\site-packages\\keras\\backend\\tensorflow_backend.py:102: The name tf.get_default_graph is deprecated. Please use tf.compat.v1.get_default_graph instead.\n",
      "\n",
      "WARNING:tensorflow:From D:\\Anaconda3\\envs\\tensorflow\\lib\\site-packages\\keras\\backend\\tensorflow_backend.py:517: The name tf.placeholder is deprecated. Please use tf.compat.v1.placeholder instead.\n",
      "\n",
      "WARNING:tensorflow:From D:\\Anaconda3\\envs\\tensorflow\\lib\\site-packages\\keras\\backend\\tensorflow_backend.py:174: The name tf.get_default_session is deprecated. Please use tf.compat.v1.get_default_session instead.\n",
      "\n",
      "WARNING:tensorflow:From D:\\Anaconda3\\envs\\tensorflow\\lib\\site-packages\\keras\\backend\\tensorflow_backend.py:1834: The name tf.nn.fused_batch_norm is deprecated. Please use tf.compat.v1.nn.fused_batch_norm instead.\n",
      "\n",
      "WARNING:tensorflow:From D:\\Anaconda3\\envs\\tensorflow\\lib\\site-packages\\keras\\backend\\tensorflow_backend.py:3445: calling dropout (from tensorflow.python.ops.nn_ops) with keep_prob is deprecated and will be removed in a future version.\n",
      "Instructions for updating:\n",
      "Please use `rate` instead of `keep_prob`. Rate should be set to `rate = 1 - keep_prob`.\n",
      "WARNING:tensorflow:From D:\\Anaconda3\\envs\\tensorflow\\lib\\site-packages\\keras\\backend\\tensorflow_backend.py:3976: The name tf.nn.max_pool is deprecated. Please use tf.nn.max_pool2d instead.\n",
      "\n",
      "_________________________________________________________________\n",
      "Layer (type)                 Output Shape              Param #   \n",
      "=================================================================\n",
      "input_1 (InputLayer)         (None, 129, 124, 1)       0         \n",
      "_________________________________________________________________\n",
      "batch_normalization_1 (Batch (None, 129, 124, 1)       4         \n",
      "_________________________________________________________________\n",
      "conv2d_1 (Conv2D)            (None, 127, 122, 16)      160       \n",
      "_________________________________________________________________\n",
      "dropout_1 (Dropout)          (None, 127, 122, 16)      0         \n",
      "_________________________________________________________________\n",
      "max_pooling2d_1 (MaxPooling2 (None, 63, 61, 16)        0         \n",
      "_________________________________________________________________\n",
      "flatten_1 (Flatten)          (None, 61488)             0         \n",
      "_________________________________________________________________\n",
      "dense_1 (Dense)              (None, 32)                1967648   \n",
      "_________________________________________________________________\n",
      "dropout_2 (Dropout)          (None, 32)                0         \n",
      "_________________________________________________________________\n",
      "dense_2 (Dense)              (None, 11)                363       \n",
      "=================================================================\n",
      "Total params: 1,968,175\n",
      "Trainable params: 1,968,173\n",
      "Non-trainable params: 2\n",
      "_________________________________________________________________\n",
      "WARNING:tensorflow:From D:\\Anaconda3\\envs\\tensorflow\\lib\\site-packages\\keras\\optimizers.py:790: The name tf.train.Optimizer is deprecated. Please use tf.compat.v1.train.Optimizer instead.\n",
      "\n",
      "WARNING:tensorflow:From <ipython-input-18-09bfd26e3b93>:13: add_dispatch_support.<locals>.wrapper (from tensorflow.python.ops.array_ops) is deprecated and will be removed in a future version.\n",
      "Instructions for updating:\n",
      "Use tf.where in 2.0, which has the same broadcast rule as np.where\n",
      "Wall time: 1.15 s\n"
     ]
    }
   ],
   "source": [
    "%%time\n",
    "\n",
    "keras.backend.clear_session()\n",
    "\n",
    "# Create model\n",
    "model = create_model(input_shape = INPUT_SHAPE)\n",
    "\n",
    "# Load weights\n",
    "# model.load_weights('./model/speech_valloss_0.1660.h5')\n",
    "\n",
    "# Compile model\n",
    "model.compile(\n",
    "    loss = 'categorical_crossentropy',\n",
    "    optimizer = Adam(lr=1e-03),\n",
    "    metrics = ['acc', f1])"
   ]
  },
  {
   "cell_type": "code",
   "execution_count": 22,
   "metadata": {},
   "outputs": [],
   "source": [
    "# Callbacks\n",
    "\n",
    "from keras.callbacks import EarlyStopping, ReduceLROnPlateau, ModelCheckpoint, TensorBoard\n",
    "\n",
    "callbacks = [\n",
    "             EarlyStopping(monitor='val_loss', patience=5, min_delta=1e-4),\n",
    "             ReduceLROnPlateau(monitor='val_loss', factor=0.6, patience=2, cooldown=1, min_lr=1e-6),\n",
    "             ModelCheckpoint(filepath='./model/speech_valloss.h5', monitor='val_loss',\n",
    "                             save_best_only=True, save_weights_only=False),\n",
    "             TensorBoard(log_dir='./logs/{}'.format(time.time()), batch_size=BATCH_SIZE)\n",
    "            ]"
   ]
  },
  {
   "cell_type": "code",
   "execution_count": 24,
   "metadata": {},
   "outputs": [
    {
     "name": "stdout",
     "output_type": "stream",
     "text": [
      "train_steps: 3640\n",
      "val_steps: 404\n"
     ]
    }
   ],
   "source": [
    "EPOCHS = 5\n",
    "train_steps = x_train.shape[0]//BATCH_SIZE\n",
    "val_steps = x_val.shape[0]//BATCH_SIZE\n",
    "\n",
    "print('train_steps:', train_steps)\n",
    "print('val_steps:', val_steps)"
   ]
  },
  {
   "cell_type": "code",
   "execution_count": 25,
   "metadata": {},
   "outputs": [
    {
     "name": "stdout",
     "output_type": "stream",
     "text": [
      "WARNING:tensorflow:From D:\\Anaconda3\\envs\\tensorflow\\lib\\site-packages\\keras\\callbacks.py:850: The name tf.summary.merge_all is deprecated. Please use tf.compat.v1.summary.merge_all instead.\n",
      "\n",
      "WARNING:tensorflow:From D:\\Anaconda3\\envs\\tensorflow\\lib\\site-packages\\keras\\callbacks.py:853: The name tf.summary.FileWriter is deprecated. Please use tf.compat.v1.summary.FileWriter instead.\n",
      "\n",
      "Epoch 1/5\n",
      " 756/3640 [=====>........................] - ETA: 53s - loss: 1.6225 - acc: 0.6169 - f1: 0.120"
     ]
    },
    {
     "name": "stderr",
     "output_type": "stream",
     "text": [
      "D:\\Anaconda3\\envs\\tensorflow\\lib\\site-packages\\scipy\\io\\wavfile.py:273: WavFileWarning: Chunk (non-data) not understood, skipping it.\n",
      "  WavFileWarning)\n"
     ]
    },
    {
     "name": "stdout",
     "output_type": "stream",
     "text": [
      "3640/3640 [==============================] - 67s 19ms/step - loss: 1.3905 - acc: 0.6340 - f1: 0.1428 - val_loss: 1.3361 - val_acc: 0.6351 - val_f1: 0.1611\n",
      "Epoch 2/5\n",
      "3640/3640 [==============================] - 65s 18ms/step - loss: 1.2191 - acc: 0.6400 - f1: 0.1733 - val_loss: 1.4258 - val_acc: 0.6440 - val_f1: 0.1627\n",
      "Epoch 3/5\n",
      "3640/3640 [==============================] - 64s 18ms/step - loss: 1.1634 - acc: 0.6408 - f1: 0.1881 - val_loss: 1.3892 - val_acc: 0.6334 - val_f1: 0.1728\n",
      "Epoch 4/5\n",
      "3640/3640 [==============================] - 67s 18ms/step - loss: 1.0978 - acc: 0.6404 - f1: 0.2049 - val_loss: 1.3189 - val_acc: 0.6374 - val_f1: 0.1891\n",
      "Epoch 5/5\n",
      "3640/3640 [==============================] - 66s 18ms/step - loss: 1.0659 - acc: 0.6432 - f1: 0.2128 - val_loss: 1.2381 - val_acc: 0.6545 - val_f1: 0.1988\n",
      "Wall time: 5min 30s\n"
     ]
    }
   ],
   "source": [
    "%%time\n",
    "# Train the model\n",
    "\n",
    "history = model.fit_generator(\n",
    "                train_datagen,\n",
    "                steps_per_epoch = train_steps,\n",
    "                epochs = EPOCHS,\n",
    "                validation_data = val_datagen,\n",
    "                validation_steps = val_steps,\n",
    "                callbacks = callbacks,\n",
    "                #workers=3,  #generator is not thread-safe\n",
    "                max_queue_size=10,\n",
    "                )"
   ]
  },
  {
   "cell_type": "code",
   "execution_count": 24,
   "metadata": {},
   "outputs": [],
   "source": [
    "# Save model\n",
    "# model.save('./model/speech_valloss_.h5')"
   ]
  },
  {
   "cell_type": "code",
   "execution_count": 26,
   "metadata": {},
   "outputs": [
    {
     "name": "stdout",
     "output_type": "stream",
     "text": [
      "dict_keys(['val_loss', 'val_acc', 'val_f1', 'loss', 'acc', 'f1', 'lr'])\n"
     ]
    }
   ],
   "source": [
    "print(history.history.keys())"
   ]
  },
  {
   "cell_type": "markdown",
   "metadata": {},
   "source": [
    "# Model Evaluation"
   ]
  },
  {
   "cell_type": "markdown",
   "metadata": {},
   "source": [
    "## 1) Plot learning rate, loss, acc"
   ]
  },
  {
   "cell_type": "code",
   "execution_count": 27,
   "metadata": {},
   "outputs": [],
   "source": [
    "def show_history(history):\n",
    "    fig, ax = plt.subplots(1, 4, figsize=(15,5))\n",
    "    ax[0].set_title('learning rate')\n",
    "    ax[0].plot(history.epoch, history.history[\"lr\"], label=\"lr\")\n",
    "\n",
    "    ax[1].set_title('loss')\n",
    "    ax[1].plot(history.epoch, history.history[\"loss\"], label=\"Train loss\")\n",
    "    ax[1].plot(history.epoch, history.history[\"val_loss\"], label=\"Validation loss\")\n",
    "    \n",
    "    ax[2].set_title('acc')\n",
    "    ax[2].plot(history.epoch, history.history[\"acc\"], label=\"Train acc\")\n",
    "    ax[2].plot(history.epoch, history.history[\"val_acc\"], label=\"Validation acc\")\n",
    "    \n",
    "    ax[3].set_title('f1')\n",
    "    ax[3].plot(history.epoch, history.history[\"f1\"], label=\"Train f1\")\n",
    "    ax[3].plot(history.epoch, history.history[\"val_f1\"], label=\"Validation f1\")\n",
    "    \n",
    "    ax[0].legend()\n",
    "    ax[1].legend()\n",
    "    ax[2].legend()\n",
    "    ax[3].legend()"
   ]
  },
  {
   "cell_type": "code",
   "execution_count": 28,
   "metadata": {},
   "outputs": [
    {
     "data": {
      "image/png": "[encoded data removed]",
      "text/plain": [
       "<Figure size 1080x360 with 4 Axes>"
      ]
     },
     "metadata": {
      "needs_background": "light"
     },
     "output_type": "display_data"
    }
   ],
   "source": [
    "show_history(history)"
   ]
  },
  {
   "cell_type": "markdown",
   "metadata": {},
   "source": [
    "## 2) Loss, acc, f1"
   ]
  },
  {
   "cell_type": "code",
   "execution_count": 29,
   "metadata": {},
   "outputs": [
    {
     "name": "stdout",
     "output_type": "stream",
     "text": [
      "loss: 1.2937257059729925\n",
      "metric (acc): 0.645884900990099\n",
      "metric (f1): 0.20432150765958398\n",
      "Wall time: 6.19 s\n"
     ]
    }
   ],
   "source": [
    "%%time\n",
    "\n",
    "# score = model.evaluate(x_val, y_val)\n",
    "score = model.evaluate_generator(val_datagen, \n",
    "                                 steps = val_steps\n",
    "                                )\n",
    "print(\"loss:\", score[0])\n",
    "print(\"metric (acc):\", score[1])\n",
    "print(\"metric (f1):\", score[2])"
   ]
  },
  {
   "cell_type": "markdown",
   "metadata": {},
   "source": [
    "## 3) Confusion Matrix"
   ]
  },
  {
   "cell_type": "markdown",
   "metadata": {},
   "source": [
    "There is a problem: val_datagen has shuffle index. So the confusion matrix give wrong result.\n",
    "\n",
    "Solution: make a better data generator"
   ]
  },
  {
   "cell_type": "code",
   "execution_count": 30,
   "metadata": {},
   "outputs": [
    {
     "name": "stdout",
     "output_type": "stream",
     "text": [
      "Wall time: 6.23 s\n"
     ]
    }
   ],
   "source": [
    "%%time\n",
    "\n",
    "# y_val_pred = model.predict_classes(x_val)\n",
    "y_val_pred_prob = model.predict_generator(val_datagen, \n",
    "                                          steps = val_steps\n",
    "                                         )"
   ]
  },
  {
   "cell_type": "code",
   "execution_count": 31,
   "metadata": {},
   "outputs": [
    {
     "name": "stdout",
     "output_type": "stream",
     "text": [
      "y_val_pred_prob.shape: (6464, 11)\n"
     ]
    },
    {
     "data": {
      "text/plain": [
       "array([[2.1313906e-02, 1.3012719e-01, 9.9718571e-05, ..., 9.9979341e-01,\n",
       "        9.9301338e-05, 3.9935112e-06],\n",
       "       [2.3029149e-03, 9.0450048e-05, 6.8455935e-05, ..., 1.0000000e+00,\n",
       "        3.6050975e-03, 0.0000000e+00],\n",
       "       [2.5252491e-02, 1.9665241e-02, 1.4295638e-01, ..., 9.9992567e-01,\n",
       "        3.4412146e-03, 9.8805994e-02],\n",
       "       ...,\n",
       "       [9.3659210e-01, 5.9038401e-05, 5.5432320e-06, ..., 1.0000000e+00,\n",
       "        0.0000000e+00, 0.0000000e+00],\n",
       "       [9.6531969e-01, 1.2189150e-05, 1.7881393e-07, ..., 9.9999917e-01,\n",
       "        2.9802322e-08, 0.0000000e+00],\n",
       "       [2.9802322e-07, 8.3685219e-03, 1.3411045e-06, ..., 1.0000000e+00,\n",
       "        0.0000000e+00, 1.0132790e-06]], dtype=float32)"
      ]
     },
     "execution_count": 31,
     "metadata": {},
     "output_type": "execute_result"
    }
   ],
   "source": [
    "print('y_val_pred_prob.shape:', y_val_pred_prob.shape)\n",
    "y_val_pred_prob"
   ]
  },
  {
   "cell_type": "code",
   "execution_count": 32,
   "metadata": {},
   "outputs": [
    {
     "data": {
      "text/plain": [
       "array([[0.9997934],\n",
       "       [1.       ],\n",
       "       [0.9999257],\n",
       "       ...,\n",
       "       [1.       ],\n",
       "       [0.9999996],\n",
       "       [1.       ]], dtype=float32)"
      ]
     },
     "execution_count": 32,
     "metadata": {},
     "output_type": "execute_result"
    }
   ],
   "source": [
    "y_val_pred_prob.max(axis=1,keepdims=1)"
   ]
  },
  {
   "cell_type": "code",
   "execution_count": 33,
   "metadata": {},
   "outputs": [
    {
     "data": {
      "text/plain": [
       "array([[0, 0, 0, ..., 1, 0, 0],\n",
       "       [0, 0, 0, ..., 1, 0, 0],\n",
       "       [0, 0, 0, ..., 1, 0, 0],\n",
       "       ...,\n",
       "       [0, 0, 0, ..., 1, 0, 0],\n",
       "       [0, 0, 0, ..., 0, 0, 0],\n",
       "       [0, 0, 0, ..., 1, 0, 0]])"
      ]
     },
     "execution_count": 33,
     "metadata": {},
     "output_type": "execute_result"
    }
   ],
   "source": [
    "y_val_pred = (y_val_pred_prob == y_val_pred_prob.max(axis=1,keepdims=1)).astype(int)\n",
    "y_val_pred"
   ]
  },
  {
   "cell_type": "code",
   "execution_count": 34,
   "metadata": {},
   "outputs": [],
   "source": [
    "import itertools\n",
    "import matplotlib.pyplot as plt\n",
    "\n",
    "def confusion_matrix(y_true, y_pred, labels):\n",
    "    instcount = y_true.shape[0]\n",
    "    n_classes = len(labels)\n",
    "    fp = ((y_true - y_pred) < 0).sum(axis = 0)\n",
    "    fn = ((y_true - y_pred) > 0).sum(axis = 0)\n",
    "    tp = (y_true*y_pred).sum(axis = 0)\n",
    "    tn = ((y_true==0)*(y_pred==0)).sum(axis = 0)\n",
    "    mtx = np.vstack([tp/(tp + fn), fn/(tp + fn), tn/(tn + fp), fp/(tn + fp)]).T\n",
    "    plt.figure(num=None, figsize=(5, 15), dpi=100, facecolor='w', edgecolor='k')\n",
    "    plt.imshow(mtx, interpolation='nearest',cmap='Blues')\n",
    "    plt.title(\"Confusion matrix\")\n",
    "    tick_marks = np.arange(n_classes)\n",
    "    plt.xticks(np.arange(4), ['1 - 1','1 - 0','0 - 0','0 - 1'])\n",
    "    plt.yticks(tick_marks, labels)\n",
    "    for i, j in itertools.product(range(n_classes), range(4)):\n",
    "        plt.text(j, i, round(mtx[i][j],2), horizontalalignment=\"center\")\n",
    "\n",
    "    plt.ylabel('labels')\n",
    "    plt.xlabel('True-Predicted')\n",
    "    plt.show()"
   ]
  },
  {
   "cell_type": "code",
   "execution_count": 35,
   "metadata": {},
   "outputs": [
    {
     "data": {
      "text/plain": [
       "['unknown',\n",
       " 'down',\n",
       " 'go',\n",
       " 'left',\n",
       " 'no',\n",
       " 'off',\n",
       " 'on',\n",
       " 'right',\n",
       " 'stop',\n",
       " 'up',\n",
       " 'yes']"
      ]
     },
     "execution_count": 35,
     "metadata": {},
     "output_type": "execute_result"
    }
   ],
   "source": [
    "labels = df_train['word'].unique().tolist()\n",
    "labels"
   ]
  },
  {
   "cell_type": "code",
   "execution_count": 36,
   "metadata": {},
   "outputs": [
    {
     "data": {
      "text/plain": [
       "(6473, 11)"
      ]
     },
     "execution_count": 36,
     "metadata": {},
     "output_type": "execute_result"
    }
   ],
   "source": [
    "y_val.shape"
   ]
  },
  {
   "cell_type": "code",
   "execution_count": 37,
   "metadata": {},
   "outputs": [
    {
     "data": {
      "text/plain": [
       "(6464, 11)"
      ]
     },
     "execution_count": 37,
     "metadata": {},
     "output_type": "execute_result"
    }
   ],
   "source": [
    "y_val_pred.shape"
   ]
  },
  {
   "cell_type": "code",
   "execution_count": 38,
   "metadata": {},
   "outputs": [
    {
     "data": {
      "image/png": "[encoded data removed]",
      "text/plain": [
       "<Figure size 500x1500 with 1 Axes>"
      ]
     },
     "metadata": {},
     "output_type": "display_data"
    }
   ],
   "source": [
    "confusion_matrix(y_val[: y_val_pred.shape[0]],   # skip last batch (6473-6464)\n",
    "                 y_val_pred,\n",
    "                 labels)"
   ]
  },
  {
   "cell_type": "markdown",
   "metadata": {},
   "source": [
    "# 4) Miss-Classification table"
   ]
  },
  {
   "cell_type": "code",
   "execution_count": 39,
   "metadata": {},
   "outputs": [],
   "source": [
    "def miss_classification(y_true, y_pred, classes, percent=False, multi_label=True):\n",
    "    '''\n",
    "    Params:\n",
    "        y_true, y_pred : binary numpy array\n",
    "        classes : list of names classes\n",
    "        percent : display persent of miss classification\n",
    "        multi_label : target can have multy labels\n",
    "    '''\n",
    "\n",
    "    n_classes = len(classes)\n",
    "    fp = ((y_true - y_pred) < 0).astype('int')\n",
    "    fn = ((y_true - y_pred) > 0).astype('int')\n",
    "    mtc = (fn.T @ fp)\n",
    "    if multi_label:\n",
    "        mtc = np.hstack([mtc, (fp.sum(axis = 0) - mtc.sum(axis = 0)).clip(0)[:,None]])\n",
    "        classes.append('As extra class')\n",
    "    if percent:\n",
    "        mtc = (mtc / mtc.sum(axis = 1)[:,None])\n",
    "        mtc = np.nan_to_num(mtc).clip(0,1) * 100\n",
    "        \n",
    "    plt.figure(num=None, figsize=(10.5, 10.5), dpi=100, facecolor='w', edgecolor='k')\n",
    "    plt.imshow(mtc, interpolation='nearest',cmap='Blues')\n",
    "    plt.title(\"Miss-Classification table\")\n",
    "\n",
    "    plt.xticks(np.arange(mtc.shape[1]), classes, rotation=90)\n",
    "    plt.yticks(np.arange(mtc.shape[0]), classes, rotation=0)\n",
    "    \n",
    "    for i in range(mtc.shape[0]):\n",
    "        for j in range(mtc.shape[1]):\n",
    "            plt.text(j, i, int(mtc[i][j]), horizontalalignment=\"center\")\n",
    "    plt.ylabel('True labels')\n",
    "    plt.xlabel('Predicted Miss labeled')\n",
    "    plt.show()"
   ]
  },
  {
   "cell_type": "code",
   "execution_count": 40,
   "metadata": {},
   "outputs": [
    {
     "data": {
      "image/png": "[encoded data removed]",
      "text/plain": [
       "<Figure size 1050x1050 with 1 Axes>"
      ]
     },
     "metadata": {},
     "output_type": "display_data"
    }
   ],
   "source": [
    "miss_classification(y_val[: y_val_pred.shape[0]],   # skip last batch (6473-6464)\n",
    "                    y_val_pred,\n",
    "                    labels,\n",
    "                    percent=True)"
   ]
  },
  {
   "cell_type": "markdown",
   "metadata": {},
   "source": [
    "# Prediction"
   ]
  },
  {
   "cell_type": "code",
   "execution_count": 29,
   "metadata": {},
   "outputs": [
    {
     "name": "stdout",
     "output_type": "stream",
     "text": [
      "df_test.shape: (158538, 2)\n"
     ]
    },
    {
     "data": {
      "text/html": [
       "<div>\n",
       "<style scoped>\n",
       "    .dataframe tbody tr th:only-of-type {\n",
       "        vertical-align: middle;\n",
       "    }\n",
       "\n",
       "    .dataframe tbody tr th {\n",
       "        vertical-align: top;\n",
       "    }\n",
       "\n",
       "    .dataframe thead th {\n",
       "        text-align: right;\n",
       "    }\n",
       "</style>\n",
       "<table border=\"1\" class=\"dataframe\">\n",
       "  <thead>\n",
       "    <tr style=\"text-align: right;\">\n",
       "      <th></th>\n",
       "      <th>path</th>\n",
       "      <th>word</th>\n",
       "    </tr>\n",
       "  </thead>\n",
       "  <tbody>\n",
       "    <tr>\n",
       "      <th>0</th>\n",
       "      <td>input\\test\\audio\\clip_000044442.wav</td>\n",
       "      <td>audio</td>\n",
       "    </tr>\n",
       "    <tr>\n",
       "      <th>1</th>\n",
       "      <td>input\\test\\audio\\clip_0000adecb.wav</td>\n",
       "      <td>audio</td>\n",
       "    </tr>\n",
       "    <tr>\n",
       "      <th>2</th>\n",
       "      <td>input\\test\\audio\\clip_0000d4322.wav</td>\n",
       "      <td>audio</td>\n",
       "    </tr>\n",
       "    <tr>\n",
       "      <th>3</th>\n",
       "      <td>input\\test\\audio\\clip_0000fb6fe.wav</td>\n",
       "      <td>audio</td>\n",
       "    </tr>\n",
       "    <tr>\n",
       "      <th>4</th>\n",
       "      <td>input\\test\\audio\\clip_0001d1559.wav</td>\n",
       "      <td>audio</td>\n",
       "    </tr>\n",
       "  </tbody>\n",
       "</table>\n",
       "</div>"
      ],
      "text/plain": [
       "                                  path   word\n",
       "0  input\\test\\audio\\clip_000044442.wav  audio\n",
       "1  input\\test\\audio\\clip_0000adecb.wav  audio\n",
       "2  input\\test\\audio\\clip_0000d4322.wav  audio\n",
       "3  input\\test\\audio\\clip_0000fb6fe.wav  audio\n",
       "4  input\\test\\audio\\clip_0001d1559.wav  audio"
      ]
     },
     "execution_count": 29,
     "metadata": {},
     "output_type": "execute_result"
    }
   ],
   "source": [
    "df_test = get_data('./input/test/')\n",
    "\n",
    "print('df_test.shape:', df_test.shape)\n",
    "df_test.head()"
   ]
  },
  {
   "cell_type": "code",
   "execution_count": 30,
   "metadata": {},
   "outputs": [
    {
     "name": "stdout",
     "output_type": "stream",
     "text": [
      "df_test.shape: (158538, 2)\n"
     ]
    },
    {
     "data": {
      "text/html": [
       "<div>\n",
       "<style scoped>\n",
       "    .dataframe tbody tr th:only-of-type {\n",
       "        vertical-align: middle;\n",
       "    }\n",
       "\n",
       "    .dataframe tbody tr th {\n",
       "        vertical-align: top;\n",
       "    }\n",
       "\n",
       "    .dataframe thead th {\n",
       "        text-align: right;\n",
       "    }\n",
       "</style>\n",
       "<table border=\"1\" class=\"dataframe\">\n",
       "  <thead>\n",
       "    <tr style=\"text-align: right;\">\n",
       "      <th></th>\n",
       "      <th>path</th>\n",
       "      <th>word</th>\n",
       "    </tr>\n",
       "  </thead>\n",
       "  <tbody>\n",
       "    <tr>\n",
       "      <th>0</th>\n",
       "      <td>input\\test\\audio\\clip_000044442.wav</td>\n",
       "      <td>unknown</td>\n",
       "    </tr>\n",
       "    <tr>\n",
       "      <th>1</th>\n",
       "      <td>input\\test\\audio\\clip_0000adecb.wav</td>\n",
       "      <td>unknown</td>\n",
       "    </tr>\n",
       "    <tr>\n",
       "      <th>2</th>\n",
       "      <td>input\\test\\audio\\clip_0000d4322.wav</td>\n",
       "      <td>unknown</td>\n",
       "    </tr>\n",
       "    <tr>\n",
       "      <th>3</th>\n",
       "      <td>input\\test\\audio\\clip_0000fb6fe.wav</td>\n",
       "      <td>unknown</td>\n",
       "    </tr>\n",
       "    <tr>\n",
       "      <th>4</th>\n",
       "      <td>input\\test\\audio\\clip_0001d1559.wav</td>\n",
       "      <td>unknown</td>\n",
       "    </tr>\n",
       "  </tbody>\n",
       "</table>\n",
       "</div>"
      ],
      "text/plain": [
       "                                  path     word\n",
       "0  input\\test\\audio\\clip_000044442.wav  unknown\n",
       "1  input\\test\\audio\\clip_0000adecb.wav  unknown\n",
       "2  input\\test\\audio\\clip_0000d4322.wav  unknown\n",
       "3  input\\test\\audio\\clip_0000fb6fe.wav  unknown\n",
       "4  input\\test\\audio\\clip_0001d1559.wav  unknown"
      ]
     },
     "execution_count": 30,
     "metadata": {},
     "output_type": "execute_result"
    }
   ],
   "source": [
    "df_test = prepare_data(df_test)\n",
    "\n",
    "print('df_test.shape:', df_test.shape)\n",
    "df_test.head()"
   ]
  },
  {
   "cell_type": "code",
   "execution_count": 33,
   "metadata": {},
   "outputs": [],
   "source": [
    "predictions = []\n",
    "paths = df_test['path']\n",
    "\n",
    "for path in paths:\n",
    "    specgram = get_specgrams([path])\n",
    "    pred = model.predict(np.array(specgram))\n",
    "    predictions.append(pred)\n",
    "    \n",
    "predictions_prob = np.array(predictions).squeeze()"
   ]
  },
  {
   "cell_type": "code",
   "execution_count": 47,
   "metadata": {},
   "outputs": [
    {
     "name": "stdout",
     "output_type": "stream",
     "text": [
      "predictions_prob.shape (158538, 11)\n"
     ]
    },
    {
     "data": {
      "text/plain": [
       "array([[4.3720007e-05, 2.1310151e-03, 5.0836802e-04, ..., 2.4077071e-02,\n",
       "        2.7102394e-07, 5.3043605e-05],\n",
       "       [1.0824615e-01, 6.0948730e-04, 4.8179328e-03, ..., 7.9814839e-01,\n",
       "        8.6647095e-05, 1.1532393e-03],\n",
       "       [9.5993280e-05, 6.3309371e-03, 3.5762787e-07, ..., 3.0727836e-01,\n",
       "        0.0000000e+00, 0.0000000e+00],\n",
       "       ...,\n",
       "       [8.2100928e-03, 4.7136515e-02, 1.2188911e-02, ..., 3.7771374e-01,\n",
       "        2.6015504e-03, 4.6012220e-03],\n",
       "       [9.6878111e-03, 1.2132347e-02, 2.7947158e-02, ..., 6.5050977e-01,\n",
       "        3.9509282e-02, 3.3101704e-02],\n",
       "       [9.2208385e-05, 4.7900975e-03, 1.0907650e-05, ..., 5.5271864e-01,\n",
       "        0.0000000e+00, 3.5939802e-08]], dtype=float32)"
      ]
     },
     "execution_count": 47,
     "metadata": {},
     "output_type": "execute_result"
    }
   ],
   "source": [
    "print('predictions_prob.shape', predictions_prob.shape)\n",
    "predictions_prob"
   ]
  },
  {
   "cell_type": "code",
   "execution_count": 48,
   "metadata": {},
   "outputs": [
    {
     "data": {
      "text/plain": [
       "array([[0.64660734],\n",
       "       [0.7981484 ],\n",
       "       [0.30727836],\n",
       "       ...,\n",
       "       [0.37771374],\n",
       "       [0.6505098 ],\n",
       "       [0.55271864]], dtype=float32)"
      ]
     },
     "execution_count": 48,
     "metadata": {},
     "output_type": "execute_result"
    }
   ],
   "source": [
    "predictions_prob.max(axis=1,keepdims=1)"
   ]
  },
  {
   "cell_type": "code",
   "execution_count": 49,
   "metadata": {},
   "outputs": [
    {
     "data": {
      "text/plain": [
       "array([[0, 0, 0, ..., 0, 0, 0],\n",
       "       [0, 0, 0, ..., 1, 0, 0],\n",
       "       [0, 0, 0, ..., 1, 0, 0],\n",
       "       ...,\n",
       "       [0, 0, 0, ..., 1, 0, 0],\n",
       "       [0, 0, 0, ..., 1, 0, 0],\n",
       "       [0, 0, 0, ..., 1, 0, 0]])"
      ]
     },
     "execution_count": 49,
     "metadata": {},
     "output_type": "execute_result"
    }
   ],
   "source": [
    "predictions = (predictions_prob == predictions_prob.max(axis=1,keepdims=1)).astype(int)\n",
    "predictions"
   ]
  },
  {
   "cell_type": "code",
   "execution_count": 50,
   "metadata": {},
   "outputs": [
    {
     "name": "stdout",
     "output_type": "stream",
     "text": [
      "predictions_label.shape: (158538,)\n"
     ]
    },
    {
     "data": {
      "text/plain": [
       "array(['no', 'unknown', 'unknown', ..., 'unknown', 'unknown', 'unknown'],\n",
       "      dtype='<U7')"
      ]
     },
     "execution_count": 50,
     "metadata": {},
     "output_type": "execute_result"
    }
   ],
   "source": [
    "predictions_label = labelbinarizer.inverse_transform(predictions)\n",
    "print('predictions_label.shape:', predictions_label.shape)\n",
    "predictions_label"
   ]
  },
  {
   "cell_type": "code",
   "execution_count": 51,
   "metadata": {},
   "outputs": [],
   "source": [
    "df_test['labels'] = predictions_label"
   ]
  },
  {
   "cell_type": "code",
   "execution_count": 52,
   "metadata": {},
   "outputs": [],
   "source": [
    "df_test['path'] = df_test['path'].apply(lambda x: str(x).split(\"\\\\\")[-1])"
   ]
  },
  {
   "cell_type": "code",
   "execution_count": 53,
   "metadata": {},
   "outputs": [
    {
     "data": {
      "text/html": [
       "<div>\n",
       "<style scoped>\n",
       "    .dataframe tbody tr th:only-of-type {\n",
       "        vertical-align: middle;\n",
       "    }\n",
       "\n",
       "    .dataframe tbody tr th {\n",
       "        vertical-align: top;\n",
       "    }\n",
       "\n",
       "    .dataframe thead th {\n",
       "        text-align: right;\n",
       "    }\n",
       "</style>\n",
       "<table border=\"1\" class=\"dataframe\">\n",
       "  <thead>\n",
       "    <tr style=\"text-align: right;\">\n",
       "      <th></th>\n",
       "      <th>path</th>\n",
       "      <th>word</th>\n",
       "      <th>labels</th>\n",
       "    </tr>\n",
       "  </thead>\n",
       "  <tbody>\n",
       "    <tr>\n",
       "      <th>0</th>\n",
       "      <td>clip_000044442.wav</td>\n",
       "      <td>unknown</td>\n",
       "      <td>no</td>\n",
       "    </tr>\n",
       "    <tr>\n",
       "      <th>1</th>\n",
       "      <td>clip_0000adecb.wav</td>\n",
       "      <td>unknown</td>\n",
       "      <td>unknown</td>\n",
       "    </tr>\n",
       "    <tr>\n",
       "      <th>2</th>\n",
       "      <td>clip_0000d4322.wav</td>\n",
       "      <td>unknown</td>\n",
       "      <td>unknown</td>\n",
       "    </tr>\n",
       "    <tr>\n",
       "      <th>3</th>\n",
       "      <td>clip_0000fb6fe.wav</td>\n",
       "      <td>unknown</td>\n",
       "      <td>unknown</td>\n",
       "    </tr>\n",
       "    <tr>\n",
       "      <th>4</th>\n",
       "      <td>clip_0001d1559.wav</td>\n",
       "      <td>unknown</td>\n",
       "      <td>unknown</td>\n",
       "    </tr>\n",
       "    <tr>\n",
       "      <th>5</th>\n",
       "      <td>clip_0002256ed.wav</td>\n",
       "      <td>unknown</td>\n",
       "      <td>unknown</td>\n",
       "    </tr>\n",
       "    <tr>\n",
       "      <th>6</th>\n",
       "      <td>clip_0002a4a1f.wav</td>\n",
       "      <td>unknown</td>\n",
       "      <td>on</td>\n",
       "    </tr>\n",
       "    <tr>\n",
       "      <th>7</th>\n",
       "      <td>clip_0002d9b83.wav</td>\n",
       "      <td>unknown</td>\n",
       "      <td>unknown</td>\n",
       "    </tr>\n",
       "    <tr>\n",
       "      <th>8</th>\n",
       "      <td>clip_000373a5b.wav</td>\n",
       "      <td>unknown</td>\n",
       "      <td>unknown</td>\n",
       "    </tr>\n",
       "    <tr>\n",
       "      <th>9</th>\n",
       "      <td>clip_0003c7122.wav</td>\n",
       "      <td>unknown</td>\n",
       "      <td>unknown</td>\n",
       "    </tr>\n",
       "  </tbody>\n",
       "</table>\n",
       "</div>"
      ],
      "text/plain": [
       "                 path     word   labels\n",
       "0  clip_000044442.wav  unknown       no\n",
       "1  clip_0000adecb.wav  unknown  unknown\n",
       "2  clip_0000d4322.wav  unknown  unknown\n",
       "3  clip_0000fb6fe.wav  unknown  unknown\n",
       "4  clip_0001d1559.wav  unknown  unknown\n",
       "5  clip_0002256ed.wav  unknown  unknown\n",
       "6  clip_0002a4a1f.wav  unknown       on\n",
       "7  clip_0002d9b83.wav  unknown  unknown\n",
       "8  clip_000373a5b.wav  unknown  unknown\n",
       "9  clip_0003c7122.wav  unknown  unknown"
      ]
     },
     "execution_count": 53,
     "metadata": {},
     "output_type": "execute_result"
    }
   ],
   "source": [
    "df_test.head(10)"
   ]
  },
  {
   "cell_type": "code",
   "execution_count": 54,
   "metadata": {},
   "outputs": [
    {
     "data": {
      "text/html": [
       "<div>\n",
       "<style scoped>\n",
       "    .dataframe tbody tr th:only-of-type {\n",
       "        vertical-align: middle;\n",
       "    }\n",
       "\n",
       "    .dataframe tbody tr th {\n",
       "        vertical-align: top;\n",
       "    }\n",
       "\n",
       "    .dataframe thead th {\n",
       "        text-align: right;\n",
       "    }\n",
       "</style>\n",
       "<table border=\"1\" class=\"dataframe\">\n",
       "  <thead>\n",
       "    <tr style=\"text-align: right;\">\n",
       "      <th></th>\n",
       "      <th>fname</th>\n",
       "      <th>label</th>\n",
       "    </tr>\n",
       "  </thead>\n",
       "  <tbody>\n",
       "    <tr>\n",
       "      <th>0</th>\n",
       "      <td>clip_000044442.wav</td>\n",
       "      <td>no</td>\n",
       "    </tr>\n",
       "    <tr>\n",
       "      <th>1</th>\n",
       "      <td>clip_0000adecb.wav</td>\n",
       "      <td>unknown</td>\n",
       "    </tr>\n",
       "    <tr>\n",
       "      <th>2</th>\n",
       "      <td>clip_0000d4322.wav</td>\n",
       "      <td>unknown</td>\n",
       "    </tr>\n",
       "    <tr>\n",
       "      <th>3</th>\n",
       "      <td>clip_0000fb6fe.wav</td>\n",
       "      <td>unknown</td>\n",
       "    </tr>\n",
       "    <tr>\n",
       "      <th>4</th>\n",
       "      <td>clip_0001d1559.wav</td>\n",
       "      <td>unknown</td>\n",
       "    </tr>\n",
       "    <tr>\n",
       "      <th>5</th>\n",
       "      <td>clip_0002256ed.wav</td>\n",
       "      <td>unknown</td>\n",
       "    </tr>\n",
       "    <tr>\n",
       "      <th>6</th>\n",
       "      <td>clip_0002a4a1f.wav</td>\n",
       "      <td>on</td>\n",
       "    </tr>\n",
       "    <tr>\n",
       "      <th>7</th>\n",
       "      <td>clip_0002d9b83.wav</td>\n",
       "      <td>unknown</td>\n",
       "    </tr>\n",
       "    <tr>\n",
       "      <th>8</th>\n",
       "      <td>clip_000373a5b.wav</td>\n",
       "      <td>unknown</td>\n",
       "    </tr>\n",
       "    <tr>\n",
       "      <th>9</th>\n",
       "      <td>clip_0003c7122.wav</td>\n",
       "      <td>unknown</td>\n",
       "    </tr>\n",
       "  </tbody>\n",
       "</table>\n",
       "</div>"
      ],
      "text/plain": [
       "                fname    label\n",
       "0  clip_000044442.wav       no\n",
       "1  clip_0000adecb.wav  unknown\n",
       "2  clip_0000d4322.wav  unknown\n",
       "3  clip_0000fb6fe.wav  unknown\n",
       "4  clip_0001d1559.wav  unknown\n",
       "5  clip_0002256ed.wav  unknown\n",
       "6  clip_0002a4a1f.wav       on\n",
       "7  clip_0002d9b83.wav  unknown\n",
       "8  clip_000373a5b.wav  unknown\n",
       "9  clip_0003c7122.wav  unknown"
      ]
     },
     "execution_count": 54,
     "metadata": {},
     "output_type": "execute_result"
    }
   ],
   "source": [
    "submission = pd.DataFrame({'fname': df_test['path'], 'label': df_test['labels']})\n",
    "submission.head(10)"
   ]
  },
  {
   "cell_type": "code",
   "execution_count": 55,
   "metadata": {},
   "outputs": [],
   "source": [
    "submission.to_csv('./output/submission.csv', index=False)"
   ]
  },
  {
   "cell_type": "code",
   "execution_count": null,
   "metadata": {},
   "outputs": [],
   "source": []
  }
 ],
 "metadata": {
  "kernelspec": {
   "display_name": "Python 3",
   "language": "python",
   "name": "python3"
  },
  "language_info": {
   "codemirror_mode": {
    "name": "ipython",
    "version": 3
   },
   "file_extension": ".py",
   "mimetype": "text/x-python",
   "name": "python",
   "nbconvert_exporter": "python",
   "pygments_lexer": "ipython3",
   "version": "3.6.8"
  }
 },
 "nbformat": 4,
 "nbformat_minor": 2
}
